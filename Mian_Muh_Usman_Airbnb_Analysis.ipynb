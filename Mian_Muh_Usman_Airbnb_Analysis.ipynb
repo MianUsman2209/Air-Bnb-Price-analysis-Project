{
  "nbformat": 4,
  "nbformat_minor": 0,
  "metadata": {
    "colab": {
      "provenance": [],
      "authorship_tag": "ABX9TyMyhhpfjDcFF57CrwvkJnzq",
      "include_colab_link": true
    },
    "kernelspec": {
      "name": "python3",
      "display_name": "Python 3"
    },
    "language_info": {
      "name": "python"
    }
  },
  "cells": [
    {
      "cell_type": "markdown",
      "metadata": {
        "id": "view-in-github",
        "colab_type": "text"
      },
      "source": [
        "<a href=\"https://colab.research.google.com/github/MianUsman2209/Air-Bnb-Price-analysis-Project/blob/main/Mian_Muh_Usman_Airbnb_Analysis.ipynb\" target=\"_parent\"><img src=\"https://colab.research.google.com/assets/colab-badge.svg\" alt=\"Open In Colab\"/></a>"
      ]
    },
    {
      "cell_type": "markdown",
      "source": [
        "**Importing** **Libraries**"
      ],
      "metadata": {
        "id": "GcUV2fJTa9HN"
      }
    },
    {
      "cell_type": "code",
      "source": [
        "import pandas as pd\n",
        "import numpy as np\n",
        "import matplotlib.pyplot as plt\n",
        "import seaborn as sns"
      ],
      "metadata": {
        "id": "yrriYw9LysOt"
      },
      "execution_count": 15,
      "outputs": []
    },
    {
      "cell_type": "markdown",
      "source": [
        "**READING DATA** **SET**"
      ],
      "metadata": {
        "id": "ZIZbX2dcbTDd"
      }
    },
    {
      "cell_type": "code",
      "source": [
        "import pandas as pd\n",
        "\n",
        "df_listings = pd.read_csv(\"/content/Detailed_Property.csv\")\n",
        "df_reviews = pd.read_csv(\"/content/Property_Reviews.csv\")\n",
        "df_pricing = pd.read_csv(\"/content/property_by_place.csv\")"
      ],
      "metadata": {
        "id": "hx2qCox46amf"
      },
      "execution_count": 16,
      "outputs": []
    },
    {
      "cell_type": "markdown",
      "source": [],
      "metadata": {
        "id": "MKxFp-B9bPLG"
      }
    },
    {
      "cell_type": "code",
      "source": [
        "# Import necessary library\n",
        "import pandas as pd\n",
        "\n",
        "# Check basic info for all datasets\n",
        "print(\"Listings Dataset Info:\")\n",
        "df_listings.info()\n",
        "print(\"\\nReviews Dataset Info:\")\n",
        "df_reviews.info()\n",
        "print(\"\\nPricing Dataset Info:\")\n",
        "df_pricing.info()\n"
      ],
      "metadata": {
        "colab": {
          "base_uri": "https://localhost:8080/"
        },
        "id": "OSbwpZwz6gpH",
        "outputId": "11ed9a62-2482-419f-9328-31f3ddcf8b96"
      },
      "execution_count": 17,
      "outputs": [
        {
          "output_type": "stream",
          "name": "stdout",
          "text": [
            "Listings Dataset Info:\n",
            "<class 'pandas.core.frame.DataFrame'>\n",
            "RangeIndex: 495 entries, 0 to 494\n",
            "Columns: 172 entries, title to sections.title.actionableIcon.subtitle\n",
            "dtypes: bool(4), float64(89), int64(10), object(69)\n",
            "memory usage: 651.8+ KB\n",
            "\n",
            "Reviews Dataset Info:\n",
            "<class 'pandas.core.frame.DataFrame'>\n",
            "RangeIndex: 2226 entries, 0 to 2225\n",
            "Data columns (total 13 columns):\n",
            " #   Column                Non-Null Count  Dtype  \n",
            "---  ------                --------------  -----  \n",
            " 0   property_id           2226 non-null   int64  \n",
            " 1   review_id             2226 non-null   int64  \n",
            " 2   reviewer_name         2226 non-null   object \n",
            " 3   reviewer_picture_url  2226 non-null   object \n",
            " 4   reviewer_badges       2226 non-null   object \n",
            " 5   review_date           2226 non-null   object \n",
            " 6   rating                2226 non-null   object \n",
            " 7   comments              2226 non-null   int64  \n",
            " 8   disclaimer            2226 non-null   object \n",
            " 9   localized_date        2226 non-null   object \n",
            " 10  localized_review      6 non-null      object \n",
            " 11  language              2226 non-null   object \n",
            " 12  reviewee_name         0 non-null      float64\n",
            "dtypes: float64(1), int64(3), object(9)\n",
            "memory usage: 226.2+ KB\n",
            "\n",
            "Pricing Dataset Info:\n",
            "<class 'pandas.core.frame.DataFrame'>\n",
            "RangeIndex: 500 entries, 0 to 499\n",
            "Data columns (total 40 columns):\n",
            " #   Column                 Non-Null Count  Dtype  \n",
            "---  ------                 --------------  -----  \n",
            " 0   Unnamed: 0.1           500 non-null    int64  \n",
            " 1   Unnamed: 0             500 non-null    int64  \n",
            " 2   avgRating              423 non-null    float64\n",
            " 3   listingBathroomLabel   500 non-null    object \n",
            " 4   bathrooms              500 non-null    float64\n",
            " 5   listingBedLabel        496 non-null    object \n",
            " 6   bedrooms               500 non-null    int64  \n",
            " 7   beds                   500 non-null    int64  \n",
            " 8   businessHostLabel      0 non-null      float64\n",
            " 9   city                   500 non-null    object \n",
            " 10  listingGuestLabel      500 non-null    object \n",
            " 11  id                     500 non-null    int64  \n",
            " 12  isAutoTranslated       500 non-null    bool   \n",
            " 13  isNewListing           500 non-null    bool   \n",
            " 14  isSuperhost            500 non-null    bool   \n",
            " 15  relaxedFilterLabels    0 non-null      float64\n",
            " 16  localizedCityName      500 non-null    object \n",
            " 17  localizedDistanceText  0 non-null      float64\n",
            " 18  locationTitle          0 non-null      float64\n",
            " 19  locationContext        0 non-null      float64\n",
            " 20  listingName            500 non-null    object \n",
            " 21  listingObjType         500 non-null    object \n",
            " 22  neighborhood           0 non-null      float64\n",
            " 23  previewTags            500 non-null    object \n",
            " 24  publicAddress          500 non-null    object \n",
            " 25  reviewsCount           500 non-null    int64  \n",
            " 26  roomType               500 non-null    object \n",
            " 27  roomTypeCategory       500 non-null    object \n",
            " 28  roomTypeId             0 non-null      float64\n",
            " 29  spaceType              500 non-null    object \n",
            " 30  starRating             423 non-null    float64\n",
            " 31  title                  500 non-null    object \n",
            " 32  avgRatingLocalized     490 non-null    object \n",
            " 33  accessibilityLabel     500 non-null    object \n",
            " 34  price                  500 non-null    object \n",
            " 35  qualifier              500 non-null    object \n",
            " 36  adults                 500 non-null    int64  \n",
            " 37  children               500 non-null    int64  \n",
            " 38  infants                500 non-null    int64  \n",
            " 39  pets                   500 non-null    int64  \n",
            "dtypes: bool(3), float64(10), int64(10), object(17)\n",
            "memory usage: 146.1+ KB\n"
          ]
        }
      ]
    },
    {
      "cell_type": "code",
      "source": [
        "# Display first 5 rows of each dataset\n",
        "print(\"Listings Dataset:\")\n",
        "display(df_listings.head())\n",
        "\n",
        "print(\"\\nReviews Dataset:\")\n",
        "display(df_reviews.head())\n",
        "\n",
        "print(\"\\nPricing Dataset:\")\n",
        "display(df_pricing.head())\n"
      ],
      "metadata": {
        "colab": {
          "base_uri": "https://localhost:8080/",
          "height": 1000
        },
        "id": "kn302f498fHm",
        "outputId": "f99dbc07-322c-4a91-912f-3a8d76a43ae9"
      },
      "execution_count": 18,
      "outputs": [
        {
          "output_type": "stream",
          "name": "stdout",
          "text": [
            "Listings Dataset:\n"
          ]
        },
        {
          "output_type": "display_data",
          "data": {
            "text/plain": [
              "                                               title        propertyType  \\\n",
              "0  Home in Calgary · ★4.95 · 1 bedroom · 1 bed · ...         Entire home   \n",
              "1  Rental unit in Calgary · ★4.84 · Studio · 2 be...  Entire rental unit   \n",
              "2  Guest suite in Calgary · ★4.94 · 1 bedroom · 1...  Entire guest suite   \n",
              "3  Loft in Calgary · ★4.95 · 1 bedroom · 1 bed · ...         Entire loft   \n",
              "4  Rental unit in Calgary · ★New · 1 bedroom · 1 ...  Entire rental unit   \n",
              "\n",
              "  location  personCapacity descriptionLanguage  listingLat  listingLng  \\\n",
              "0  Calgary               2                  en   51.055354 -114.028776   \n",
              "1  Calgary               3                  en   51.052710 -114.047400   \n",
              "2  Calgary               2                  en   51.058770 -114.041540   \n",
              "3  Calgary               2                  en   51.053650 -114.043120   \n",
              "4  Calgary               2                  en   51.040940 -114.032850   \n",
              "\n",
              "   homeTier         roomType  visibleReviewCount  ...  \\\n",
              "0         1  Entire home/apt                21.0  ...   \n",
              "1         1  Entire home/apt               268.0  ...   \n",
              "2         1  Entire home/apt                69.0  ...   \n",
              "3         1  Entire home/apt                20.0  ...   \n",
              "4         1  Entire home/apt                 NaN  ...   \n",
              "\n",
              "   sections.location.seeAllDetailsButton.accessibilityLabel  \\\n",
              "0                                                NaN          \n",
              "1                                                NaN          \n",
              "2                                                NaN          \n",
              "3                                                NaN          \n",
              "4                                                NaN          \n",
              "\n",
              "   sections.location.seeAllDetailsButton.icon  \\\n",
              "0                                         NaN   \n",
              "1                                         NaN   \n",
              "2                                         NaN   \n",
              "3                                         NaN   \n",
              "4                                         NaN   \n",
              "\n",
              "   sections.location.seeAllDetailsButton.title  \\\n",
              "0                                          NaN   \n",
              "1                                    Show more   \n",
              "2                                    Show more   \n",
              "3                                          NaN   \n",
              "4                                          NaN   \n",
              "\n",
              "   sections.location.seeAllDetailsButton.subtitle  \\\n",
              "0                                             NaN   \n",
              "1                                             NaN   \n",
              "2                                             NaN   \n",
              "3                                             NaN   \n",
              "4                                             NaN   \n",
              "\n",
              "   sections.sleepingArrangement.title  \\\n",
              "0                                 NaN   \n",
              "1                                 NaN   \n",
              "2                  Where you’ll sleep   \n",
              "3                  Where you’ll sleep   \n",
              "4                                 NaN   \n",
              "\n",
              "     sections.sleepingArrangement.arrangementDetails  \\\n",
              "0                                                NaN   \n",
              "1                                                NaN   \n",
              "2  [{'title': 'Bedroom', 'subtitle': '1 queen bed...   \n",
              "3  [{'title': 'Bedroom', 'subtitle': '1 queen bed...   \n",
              "4                                                NaN   \n",
              "\n",
              "   sections.title.actionableIcon.accessibilityLabel  \\\n",
              "0                                               NaN   \n",
              "1                                               NaN   \n",
              "2                                               NaN   \n",
              "3                                               NaN   \n",
              "4                                               NaN   \n",
              "\n",
              "  sections.title.actionableIcon.icon  sections.title.actionableIcon.title  \\\n",
              "0                                NaN                                  NaN   \n",
              "1                                NaN                                  NaN   \n",
              "2                                NaN                                  NaN   \n",
              "3                                NaN                                  NaN   \n",
              "4                                NaN                                  NaN   \n",
              "\n",
              "  sections.title.actionableIcon.subtitle  \n",
              "0                                    NaN  \n",
              "1                                    NaN  \n",
              "2                                    NaN  \n",
              "3                                    NaN  \n",
              "4                                    NaN  \n",
              "\n",
              "[5 rows x 172 columns]"
            ],
            "text/html": [
              "\n",
              "  <div id=\"df-1b70eec8-ff04-4f5b-bc8c-4760b4a9133e\" class=\"colab-df-container\">\n",
              "    <div>\n",
              "<style scoped>\n",
              "    .dataframe tbody tr th:only-of-type {\n",
              "        vertical-align: middle;\n",
              "    }\n",
              "\n",
              "    .dataframe tbody tr th {\n",
              "        vertical-align: top;\n",
              "    }\n",
              "\n",
              "    .dataframe thead th {\n",
              "        text-align: right;\n",
              "    }\n",
              "</style>\n",
              "<table border=\"1\" class=\"dataframe\">\n",
              "  <thead>\n",
              "    <tr style=\"text-align: right;\">\n",
              "      <th></th>\n",
              "      <th>title</th>\n",
              "      <th>propertyType</th>\n",
              "      <th>location</th>\n",
              "      <th>personCapacity</th>\n",
              "      <th>descriptionLanguage</th>\n",
              "      <th>listingLat</th>\n",
              "      <th>listingLng</th>\n",
              "      <th>homeTier</th>\n",
              "      <th>roomType</th>\n",
              "      <th>visibleReviewCount</th>\n",
              "      <th>...</th>\n",
              "      <th>sections.location.seeAllDetailsButton.accessibilityLabel</th>\n",
              "      <th>sections.location.seeAllDetailsButton.icon</th>\n",
              "      <th>sections.location.seeAllDetailsButton.title</th>\n",
              "      <th>sections.location.seeAllDetailsButton.subtitle</th>\n",
              "      <th>sections.sleepingArrangement.title</th>\n",
              "      <th>sections.sleepingArrangement.arrangementDetails</th>\n",
              "      <th>sections.title.actionableIcon.accessibilityLabel</th>\n",
              "      <th>sections.title.actionableIcon.icon</th>\n",
              "      <th>sections.title.actionableIcon.title</th>\n",
              "      <th>sections.title.actionableIcon.subtitle</th>\n",
              "    </tr>\n",
              "  </thead>\n",
              "  <tbody>\n",
              "    <tr>\n",
              "      <th>0</th>\n",
              "      <td>Home in Calgary · ★4.95 · 1 bedroom · 1 bed · ...</td>\n",
              "      <td>Entire home</td>\n",
              "      <td>Calgary</td>\n",
              "      <td>2</td>\n",
              "      <td>en</td>\n",
              "      <td>51.055354</td>\n",
              "      <td>-114.028776</td>\n",
              "      <td>1</td>\n",
              "      <td>Entire home/apt</td>\n",
              "      <td>21.0</td>\n",
              "      <td>...</td>\n",
              "      <td>NaN</td>\n",
              "      <td>NaN</td>\n",
              "      <td>NaN</td>\n",
              "      <td>NaN</td>\n",
              "      <td>NaN</td>\n",
              "      <td>NaN</td>\n",
              "      <td>NaN</td>\n",
              "      <td>NaN</td>\n",
              "      <td>NaN</td>\n",
              "      <td>NaN</td>\n",
              "    </tr>\n",
              "    <tr>\n",
              "      <th>1</th>\n",
              "      <td>Rental unit in Calgary · ★4.84 · Studio · 2 be...</td>\n",
              "      <td>Entire rental unit</td>\n",
              "      <td>Calgary</td>\n",
              "      <td>3</td>\n",
              "      <td>en</td>\n",
              "      <td>51.052710</td>\n",
              "      <td>-114.047400</td>\n",
              "      <td>1</td>\n",
              "      <td>Entire home/apt</td>\n",
              "      <td>268.0</td>\n",
              "      <td>...</td>\n",
              "      <td>NaN</td>\n",
              "      <td>NaN</td>\n",
              "      <td>Show more</td>\n",
              "      <td>NaN</td>\n",
              "      <td>NaN</td>\n",
              "      <td>NaN</td>\n",
              "      <td>NaN</td>\n",
              "      <td>NaN</td>\n",
              "      <td>NaN</td>\n",
              "      <td>NaN</td>\n",
              "    </tr>\n",
              "    <tr>\n",
              "      <th>2</th>\n",
              "      <td>Guest suite in Calgary · ★4.94 · 1 bedroom · 1...</td>\n",
              "      <td>Entire guest suite</td>\n",
              "      <td>Calgary</td>\n",
              "      <td>2</td>\n",
              "      <td>en</td>\n",
              "      <td>51.058770</td>\n",
              "      <td>-114.041540</td>\n",
              "      <td>1</td>\n",
              "      <td>Entire home/apt</td>\n",
              "      <td>69.0</td>\n",
              "      <td>...</td>\n",
              "      <td>NaN</td>\n",
              "      <td>NaN</td>\n",
              "      <td>Show more</td>\n",
              "      <td>NaN</td>\n",
              "      <td>Where you’ll sleep</td>\n",
              "      <td>[{'title': 'Bedroom', 'subtitle': '1 queen bed...</td>\n",
              "      <td>NaN</td>\n",
              "      <td>NaN</td>\n",
              "      <td>NaN</td>\n",
              "      <td>NaN</td>\n",
              "    </tr>\n",
              "    <tr>\n",
              "      <th>3</th>\n",
              "      <td>Loft in Calgary · ★4.95 · 1 bedroom · 1 bed · ...</td>\n",
              "      <td>Entire loft</td>\n",
              "      <td>Calgary</td>\n",
              "      <td>2</td>\n",
              "      <td>en</td>\n",
              "      <td>51.053650</td>\n",
              "      <td>-114.043120</td>\n",
              "      <td>1</td>\n",
              "      <td>Entire home/apt</td>\n",
              "      <td>20.0</td>\n",
              "      <td>...</td>\n",
              "      <td>NaN</td>\n",
              "      <td>NaN</td>\n",
              "      <td>NaN</td>\n",
              "      <td>NaN</td>\n",
              "      <td>Where you’ll sleep</td>\n",
              "      <td>[{'title': 'Bedroom', 'subtitle': '1 queen bed...</td>\n",
              "      <td>NaN</td>\n",
              "      <td>NaN</td>\n",
              "      <td>NaN</td>\n",
              "      <td>NaN</td>\n",
              "    </tr>\n",
              "    <tr>\n",
              "      <th>4</th>\n",
              "      <td>Rental unit in Calgary · ★New · 1 bedroom · 1 ...</td>\n",
              "      <td>Entire rental unit</td>\n",
              "      <td>Calgary</td>\n",
              "      <td>2</td>\n",
              "      <td>en</td>\n",
              "      <td>51.040940</td>\n",
              "      <td>-114.032850</td>\n",
              "      <td>1</td>\n",
              "      <td>Entire home/apt</td>\n",
              "      <td>NaN</td>\n",
              "      <td>...</td>\n",
              "      <td>NaN</td>\n",
              "      <td>NaN</td>\n",
              "      <td>NaN</td>\n",
              "      <td>NaN</td>\n",
              "      <td>NaN</td>\n",
              "      <td>NaN</td>\n",
              "      <td>NaN</td>\n",
              "      <td>NaN</td>\n",
              "      <td>NaN</td>\n",
              "      <td>NaN</td>\n",
              "    </tr>\n",
              "  </tbody>\n",
              "</table>\n",
              "<p>5 rows × 172 columns</p>\n",
              "</div>\n",
              "    <div class=\"colab-df-buttons\">\n",
              "\n",
              "  <div class=\"colab-df-container\">\n",
              "    <button class=\"colab-df-convert\" onclick=\"convertToInteractive('df-1b70eec8-ff04-4f5b-bc8c-4760b4a9133e')\"\n",
              "            title=\"Convert this dataframe to an interactive table.\"\n",
              "            style=\"display:none;\">\n",
              "\n",
              "  <svg xmlns=\"http://www.w3.org/2000/svg\" height=\"24px\" viewBox=\"0 -960 960 960\">\n",
              "    <path d=\"M120-120v-720h720v720H120Zm60-500h600v-160H180v160Zm220 220h160v-160H400v160Zm0 220h160v-160H400v160ZM180-400h160v-160H180v160Zm440 0h160v-160H620v160ZM180-180h160v-160H180v160Zm440 0h160v-160H620v160Z\"/>\n",
              "  </svg>\n",
              "    </button>\n",
              "\n",
              "  <style>\n",
              "    .colab-df-container {\n",
              "      display:flex;\n",
              "      gap: 12px;\n",
              "    }\n",
              "\n",
              "    .colab-df-convert {\n",
              "      background-color: #E8F0FE;\n",
              "      border: none;\n",
              "      border-radius: 50%;\n",
              "      cursor: pointer;\n",
              "      display: none;\n",
              "      fill: #1967D2;\n",
              "      height: 32px;\n",
              "      padding: 0 0 0 0;\n",
              "      width: 32px;\n",
              "    }\n",
              "\n",
              "    .colab-df-convert:hover {\n",
              "      background-color: #E2EBFA;\n",
              "      box-shadow: 0px 1px 2px rgba(60, 64, 67, 0.3), 0px 1px 3px 1px rgba(60, 64, 67, 0.15);\n",
              "      fill: #174EA6;\n",
              "    }\n",
              "\n",
              "    .colab-df-buttons div {\n",
              "      margin-bottom: 4px;\n",
              "    }\n",
              "\n",
              "    [theme=dark] .colab-df-convert {\n",
              "      background-color: #3B4455;\n",
              "      fill: #D2E3FC;\n",
              "    }\n",
              "\n",
              "    [theme=dark] .colab-df-convert:hover {\n",
              "      background-color: #434B5C;\n",
              "      box-shadow: 0px 1px 3px 1px rgba(0, 0, 0, 0.15);\n",
              "      filter: drop-shadow(0px 1px 2px rgba(0, 0, 0, 0.3));\n",
              "      fill: #FFFFFF;\n",
              "    }\n",
              "  </style>\n",
              "\n",
              "    <script>\n",
              "      const buttonEl =\n",
              "        document.querySelector('#df-1b70eec8-ff04-4f5b-bc8c-4760b4a9133e button.colab-df-convert');\n",
              "      buttonEl.style.display =\n",
              "        google.colab.kernel.accessAllowed ? 'block' : 'none';\n",
              "\n",
              "      async function convertToInteractive(key) {\n",
              "        const element = document.querySelector('#df-1b70eec8-ff04-4f5b-bc8c-4760b4a9133e');\n",
              "        const dataTable =\n",
              "          await google.colab.kernel.invokeFunction('convertToInteractive',\n",
              "                                                    [key], {});\n",
              "        if (!dataTable) return;\n",
              "\n",
              "        const docLinkHtml = 'Like what you see? Visit the ' +\n",
              "          '<a target=\"_blank\" href=https://colab.research.google.com/notebooks/data_table.ipynb>data table notebook</a>'\n",
              "          + ' to learn more about interactive tables.';\n",
              "        element.innerHTML = '';\n",
              "        dataTable['output_type'] = 'display_data';\n",
              "        await google.colab.output.renderOutput(dataTable, element);\n",
              "        const docLink = document.createElement('div');\n",
              "        docLink.innerHTML = docLinkHtml;\n",
              "        element.appendChild(docLink);\n",
              "      }\n",
              "    </script>\n",
              "  </div>\n",
              "\n",
              "\n",
              "<div id=\"df-2a748907-c6cd-4e86-b29f-e2b65e90419c\">\n",
              "  <button class=\"colab-df-quickchart\" onclick=\"quickchart('df-2a748907-c6cd-4e86-b29f-e2b65e90419c')\"\n",
              "            title=\"Suggest charts\"\n",
              "            style=\"display:none;\">\n",
              "\n",
              "<svg xmlns=\"http://www.w3.org/2000/svg\" height=\"24px\"viewBox=\"0 0 24 24\"\n",
              "     width=\"24px\">\n",
              "    <g>\n",
              "        <path d=\"M19 3H5c-1.1 0-2 .9-2 2v14c0 1.1.9 2 2 2h14c1.1 0 2-.9 2-2V5c0-1.1-.9-2-2-2zM9 17H7v-7h2v7zm4 0h-2V7h2v10zm4 0h-2v-4h2v4z\"/>\n",
              "    </g>\n",
              "</svg>\n",
              "  </button>\n",
              "\n",
              "<style>\n",
              "  .colab-df-quickchart {\n",
              "      --bg-color: #E8F0FE;\n",
              "      --fill-color: #1967D2;\n",
              "      --hover-bg-color: #E2EBFA;\n",
              "      --hover-fill-color: #174EA6;\n",
              "      --disabled-fill-color: #AAA;\n",
              "      --disabled-bg-color: #DDD;\n",
              "  }\n",
              "\n",
              "  [theme=dark] .colab-df-quickchart {\n",
              "      --bg-color: #3B4455;\n",
              "      --fill-color: #D2E3FC;\n",
              "      --hover-bg-color: #434B5C;\n",
              "      --hover-fill-color: #FFFFFF;\n",
              "      --disabled-bg-color: #3B4455;\n",
              "      --disabled-fill-color: #666;\n",
              "  }\n",
              "\n",
              "  .colab-df-quickchart {\n",
              "    background-color: var(--bg-color);\n",
              "    border: none;\n",
              "    border-radius: 50%;\n",
              "    cursor: pointer;\n",
              "    display: none;\n",
              "    fill: var(--fill-color);\n",
              "    height: 32px;\n",
              "    padding: 0;\n",
              "    width: 32px;\n",
              "  }\n",
              "\n",
              "  .colab-df-quickchart:hover {\n",
              "    background-color: var(--hover-bg-color);\n",
              "    box-shadow: 0 1px 2px rgba(60, 64, 67, 0.3), 0 1px 3px 1px rgba(60, 64, 67, 0.15);\n",
              "    fill: var(--button-hover-fill-color);\n",
              "  }\n",
              "\n",
              "  .colab-df-quickchart-complete:disabled,\n",
              "  .colab-df-quickchart-complete:disabled:hover {\n",
              "    background-color: var(--disabled-bg-color);\n",
              "    fill: var(--disabled-fill-color);\n",
              "    box-shadow: none;\n",
              "  }\n",
              "\n",
              "  .colab-df-spinner {\n",
              "    border: 2px solid var(--fill-color);\n",
              "    border-color: transparent;\n",
              "    border-bottom-color: var(--fill-color);\n",
              "    animation:\n",
              "      spin 1s steps(1) infinite;\n",
              "  }\n",
              "\n",
              "  @keyframes spin {\n",
              "    0% {\n",
              "      border-color: transparent;\n",
              "      border-bottom-color: var(--fill-color);\n",
              "      border-left-color: var(--fill-color);\n",
              "    }\n",
              "    20% {\n",
              "      border-color: transparent;\n",
              "      border-left-color: var(--fill-color);\n",
              "      border-top-color: var(--fill-color);\n",
              "    }\n",
              "    30% {\n",
              "      border-color: transparent;\n",
              "      border-left-color: var(--fill-color);\n",
              "      border-top-color: var(--fill-color);\n",
              "      border-right-color: var(--fill-color);\n",
              "    }\n",
              "    40% {\n",
              "      border-color: transparent;\n",
              "      border-right-color: var(--fill-color);\n",
              "      border-top-color: var(--fill-color);\n",
              "    }\n",
              "    60% {\n",
              "      border-color: transparent;\n",
              "      border-right-color: var(--fill-color);\n",
              "    }\n",
              "    80% {\n",
              "      border-color: transparent;\n",
              "      border-right-color: var(--fill-color);\n",
              "      border-bottom-color: var(--fill-color);\n",
              "    }\n",
              "    90% {\n",
              "      border-color: transparent;\n",
              "      border-bottom-color: var(--fill-color);\n",
              "    }\n",
              "  }\n",
              "</style>\n",
              "\n",
              "  <script>\n",
              "    async function quickchart(key) {\n",
              "      const quickchartButtonEl =\n",
              "        document.querySelector('#' + key + ' button');\n",
              "      quickchartButtonEl.disabled = true;  // To prevent multiple clicks.\n",
              "      quickchartButtonEl.classList.add('colab-df-spinner');\n",
              "      try {\n",
              "        const charts = await google.colab.kernel.invokeFunction(\n",
              "            'suggestCharts', [key], {});\n",
              "      } catch (error) {\n",
              "        console.error('Error during call to suggestCharts:', error);\n",
              "      }\n",
              "      quickchartButtonEl.classList.remove('colab-df-spinner');\n",
              "      quickchartButtonEl.classList.add('colab-df-quickchart-complete');\n",
              "    }\n",
              "    (() => {\n",
              "      let quickchartButtonEl =\n",
              "        document.querySelector('#df-2a748907-c6cd-4e86-b29f-e2b65e90419c button');\n",
              "      quickchartButtonEl.style.display =\n",
              "        google.colab.kernel.accessAllowed ? 'block' : 'none';\n",
              "    })();\n",
              "  </script>\n",
              "</div>\n",
              "\n",
              "    </div>\n",
              "  </div>\n"
            ],
            "application/vnd.google.colaboratory.intrinsic+json": {
              "type": "dataframe"
            }
          },
          "metadata": {}
        },
        {
          "output_type": "stream",
          "name": "stdout",
          "text": [
            "\n",
            "Reviews Dataset:\n"
          ]
        },
        {
          "output_type": "display_data",
          "data": {
            "text/plain": [
              "           property_id            review_id reviewer_name  \\\n",
              "0  1143371712266502884  1342992886713445651        Rachel   \n",
              "1  1143371712266502884  1341009568083458949        Meagan   \n",
              "2  1143371712266502884  1337850133475839872         Meron   \n",
              "3  1143371712266502884  1337179263690861473        Denise   \n",
              "4  1143371712266502884  1334925649265449559        Maggie   \n",
              "\n",
              "                                reviewer_picture_url reviewer_badges  \\\n",
              "0  https://a0.muscache.com/im/pictures/user/9abdf...            None   \n",
              "1  https://a0.muscache.com/im/pictures/user/User-...            None   \n",
              "2  https://a0.muscache.com/im/pictures/user/User-...            None   \n",
              "3  https://a0.muscache.com/im/pictures/user/6d395...            None   \n",
              "4  https://a0.muscache.com/im/pictures/user/User/...            None   \n",
              "\n",
              "  review_date                    rating  comments  \\\n",
              "0       Haley  2025-01-26T23:27:07.000Z         4   \n",
              "1       Haley  2025-01-24T05:46:37.000Z         5   \n",
              "2       Haley  2025-01-19T21:09:23.000Z         5   \n",
              "3       Haley  2025-01-18T22:56:30.000Z         5   \n",
              "4       Haley  2025-01-15T20:18:58.000Z         5   \n",
              "\n",
              "                                          disclaimer localized_date  \\\n",
              "0  Super cute little place with a private, retrea...   January 2025   \n",
              "1  Communication with the hosts were pleasant and...   January 2025   \n",
              "2  Very clean, quiet and beautiful home. Very acc...   January 2025   \n",
              "3  I had an absolutely wonderful stay at this qua...   January 2025   \n",
              "4                             Thank you for hosting!   January 2025   \n",
              "\n",
              "  localized_review language  reviewee_name  \n",
              "0              NaN       en            NaN  \n",
              "1              NaN       en            NaN  \n",
              "2              NaN       en            NaN  \n",
              "3              NaN       en            NaN  \n",
              "4              NaN       en            NaN  "
            ],
            "text/html": [
              "\n",
              "  <div id=\"df-2b2c128a-1a45-473b-ad79-723028d8f493\" class=\"colab-df-container\">\n",
              "    <div>\n",
              "<style scoped>\n",
              "    .dataframe tbody tr th:only-of-type {\n",
              "        vertical-align: middle;\n",
              "    }\n",
              "\n",
              "    .dataframe tbody tr th {\n",
              "        vertical-align: top;\n",
              "    }\n",
              "\n",
              "    .dataframe thead th {\n",
              "        text-align: right;\n",
              "    }\n",
              "</style>\n",
              "<table border=\"1\" class=\"dataframe\">\n",
              "  <thead>\n",
              "    <tr style=\"text-align: right;\">\n",
              "      <th></th>\n",
              "      <th>property_id</th>\n",
              "      <th>review_id</th>\n",
              "      <th>reviewer_name</th>\n",
              "      <th>reviewer_picture_url</th>\n",
              "      <th>reviewer_badges</th>\n",
              "      <th>review_date</th>\n",
              "      <th>rating</th>\n",
              "      <th>comments</th>\n",
              "      <th>disclaimer</th>\n",
              "      <th>localized_date</th>\n",
              "      <th>localized_review</th>\n",
              "      <th>language</th>\n",
              "      <th>reviewee_name</th>\n",
              "    </tr>\n",
              "  </thead>\n",
              "  <tbody>\n",
              "    <tr>\n",
              "      <th>0</th>\n",
              "      <td>1143371712266502884</td>\n",
              "      <td>1342992886713445651</td>\n",
              "      <td>Rachel</td>\n",
              "      <td>https://a0.muscache.com/im/pictures/user/9abdf...</td>\n",
              "      <td>None</td>\n",
              "      <td>Haley</td>\n",
              "      <td>2025-01-26T23:27:07.000Z</td>\n",
              "      <td>4</td>\n",
              "      <td>Super cute little place with a private, retrea...</td>\n",
              "      <td>January 2025</td>\n",
              "      <td>NaN</td>\n",
              "      <td>en</td>\n",
              "      <td>NaN</td>\n",
              "    </tr>\n",
              "    <tr>\n",
              "      <th>1</th>\n",
              "      <td>1143371712266502884</td>\n",
              "      <td>1341009568083458949</td>\n",
              "      <td>Meagan</td>\n",
              "      <td>https://a0.muscache.com/im/pictures/user/User-...</td>\n",
              "      <td>None</td>\n",
              "      <td>Haley</td>\n",
              "      <td>2025-01-24T05:46:37.000Z</td>\n",
              "      <td>5</td>\n",
              "      <td>Communication with the hosts were pleasant and...</td>\n",
              "      <td>January 2025</td>\n",
              "      <td>NaN</td>\n",
              "      <td>en</td>\n",
              "      <td>NaN</td>\n",
              "    </tr>\n",
              "    <tr>\n",
              "      <th>2</th>\n",
              "      <td>1143371712266502884</td>\n",
              "      <td>1337850133475839872</td>\n",
              "      <td>Meron</td>\n",
              "      <td>https://a0.muscache.com/im/pictures/user/User-...</td>\n",
              "      <td>None</td>\n",
              "      <td>Haley</td>\n",
              "      <td>2025-01-19T21:09:23.000Z</td>\n",
              "      <td>5</td>\n",
              "      <td>Very clean, quiet and beautiful home. Very acc...</td>\n",
              "      <td>January 2025</td>\n",
              "      <td>NaN</td>\n",
              "      <td>en</td>\n",
              "      <td>NaN</td>\n",
              "    </tr>\n",
              "    <tr>\n",
              "      <th>3</th>\n",
              "      <td>1143371712266502884</td>\n",
              "      <td>1337179263690861473</td>\n",
              "      <td>Denise</td>\n",
              "      <td>https://a0.muscache.com/im/pictures/user/6d395...</td>\n",
              "      <td>None</td>\n",
              "      <td>Haley</td>\n",
              "      <td>2025-01-18T22:56:30.000Z</td>\n",
              "      <td>5</td>\n",
              "      <td>I had an absolutely wonderful stay at this qua...</td>\n",
              "      <td>January 2025</td>\n",
              "      <td>NaN</td>\n",
              "      <td>en</td>\n",
              "      <td>NaN</td>\n",
              "    </tr>\n",
              "    <tr>\n",
              "      <th>4</th>\n",
              "      <td>1143371712266502884</td>\n",
              "      <td>1334925649265449559</td>\n",
              "      <td>Maggie</td>\n",
              "      <td>https://a0.muscache.com/im/pictures/user/User/...</td>\n",
              "      <td>None</td>\n",
              "      <td>Haley</td>\n",
              "      <td>2025-01-15T20:18:58.000Z</td>\n",
              "      <td>5</td>\n",
              "      <td>Thank you for hosting!</td>\n",
              "      <td>January 2025</td>\n",
              "      <td>NaN</td>\n",
              "      <td>en</td>\n",
              "      <td>NaN</td>\n",
              "    </tr>\n",
              "  </tbody>\n",
              "</table>\n",
              "</div>\n",
              "    <div class=\"colab-df-buttons\">\n",
              "\n",
              "  <div class=\"colab-df-container\">\n",
              "    <button class=\"colab-df-convert\" onclick=\"convertToInteractive('df-2b2c128a-1a45-473b-ad79-723028d8f493')\"\n",
              "            title=\"Convert this dataframe to an interactive table.\"\n",
              "            style=\"display:none;\">\n",
              "\n",
              "  <svg xmlns=\"http://www.w3.org/2000/svg\" height=\"24px\" viewBox=\"0 -960 960 960\">\n",
              "    <path d=\"M120-120v-720h720v720H120Zm60-500h600v-160H180v160Zm220 220h160v-160H400v160Zm0 220h160v-160H400v160ZM180-400h160v-160H180v160Zm440 0h160v-160H620v160ZM180-180h160v-160H180v160Zm440 0h160v-160H620v160Z\"/>\n",
              "  </svg>\n",
              "    </button>\n",
              "\n",
              "  <style>\n",
              "    .colab-df-container {\n",
              "      display:flex;\n",
              "      gap: 12px;\n",
              "    }\n",
              "\n",
              "    .colab-df-convert {\n",
              "      background-color: #E8F0FE;\n",
              "      border: none;\n",
              "      border-radius: 50%;\n",
              "      cursor: pointer;\n",
              "      display: none;\n",
              "      fill: #1967D2;\n",
              "      height: 32px;\n",
              "      padding: 0 0 0 0;\n",
              "      width: 32px;\n",
              "    }\n",
              "\n",
              "    .colab-df-convert:hover {\n",
              "      background-color: #E2EBFA;\n",
              "      box-shadow: 0px 1px 2px rgba(60, 64, 67, 0.3), 0px 1px 3px 1px rgba(60, 64, 67, 0.15);\n",
              "      fill: #174EA6;\n",
              "    }\n",
              "\n",
              "    .colab-df-buttons div {\n",
              "      margin-bottom: 4px;\n",
              "    }\n",
              "\n",
              "    [theme=dark] .colab-df-convert {\n",
              "      background-color: #3B4455;\n",
              "      fill: #D2E3FC;\n",
              "    }\n",
              "\n",
              "    [theme=dark] .colab-df-convert:hover {\n",
              "      background-color: #434B5C;\n",
              "      box-shadow: 0px 1px 3px 1px rgba(0, 0, 0, 0.15);\n",
              "      filter: drop-shadow(0px 1px 2px rgba(0, 0, 0, 0.3));\n",
              "      fill: #FFFFFF;\n",
              "    }\n",
              "  </style>\n",
              "\n",
              "    <script>\n",
              "      const buttonEl =\n",
              "        document.querySelector('#df-2b2c128a-1a45-473b-ad79-723028d8f493 button.colab-df-convert');\n",
              "      buttonEl.style.display =\n",
              "        google.colab.kernel.accessAllowed ? 'block' : 'none';\n",
              "\n",
              "      async function convertToInteractive(key) {\n",
              "        const element = document.querySelector('#df-2b2c128a-1a45-473b-ad79-723028d8f493');\n",
              "        const dataTable =\n",
              "          await google.colab.kernel.invokeFunction('convertToInteractive',\n",
              "                                                    [key], {});\n",
              "        if (!dataTable) return;\n",
              "\n",
              "        const docLinkHtml = 'Like what you see? Visit the ' +\n",
              "          '<a target=\"_blank\" href=https://colab.research.google.com/notebooks/data_table.ipynb>data table notebook</a>'\n",
              "          + ' to learn more about interactive tables.';\n",
              "        element.innerHTML = '';\n",
              "        dataTable['output_type'] = 'display_data';\n",
              "        await google.colab.output.renderOutput(dataTable, element);\n",
              "        const docLink = document.createElement('div');\n",
              "        docLink.innerHTML = docLinkHtml;\n",
              "        element.appendChild(docLink);\n",
              "      }\n",
              "    </script>\n",
              "  </div>\n",
              "\n",
              "\n",
              "<div id=\"df-318744c6-907c-423d-89cc-4de12c155640\">\n",
              "  <button class=\"colab-df-quickchart\" onclick=\"quickchart('df-318744c6-907c-423d-89cc-4de12c155640')\"\n",
              "            title=\"Suggest charts\"\n",
              "            style=\"display:none;\">\n",
              "\n",
              "<svg xmlns=\"http://www.w3.org/2000/svg\" height=\"24px\"viewBox=\"0 0 24 24\"\n",
              "     width=\"24px\">\n",
              "    <g>\n",
              "        <path d=\"M19 3H5c-1.1 0-2 .9-2 2v14c0 1.1.9 2 2 2h14c1.1 0 2-.9 2-2V5c0-1.1-.9-2-2-2zM9 17H7v-7h2v7zm4 0h-2V7h2v10zm4 0h-2v-4h2v4z\"/>\n",
              "    </g>\n",
              "</svg>\n",
              "  </button>\n",
              "\n",
              "<style>\n",
              "  .colab-df-quickchart {\n",
              "      --bg-color: #E8F0FE;\n",
              "      --fill-color: #1967D2;\n",
              "      --hover-bg-color: #E2EBFA;\n",
              "      --hover-fill-color: #174EA6;\n",
              "      --disabled-fill-color: #AAA;\n",
              "      --disabled-bg-color: #DDD;\n",
              "  }\n",
              "\n",
              "  [theme=dark] .colab-df-quickchart {\n",
              "      --bg-color: #3B4455;\n",
              "      --fill-color: #D2E3FC;\n",
              "      --hover-bg-color: #434B5C;\n",
              "      --hover-fill-color: #FFFFFF;\n",
              "      --disabled-bg-color: #3B4455;\n",
              "      --disabled-fill-color: #666;\n",
              "  }\n",
              "\n",
              "  .colab-df-quickchart {\n",
              "    background-color: var(--bg-color);\n",
              "    border: none;\n",
              "    border-radius: 50%;\n",
              "    cursor: pointer;\n",
              "    display: none;\n",
              "    fill: var(--fill-color);\n",
              "    height: 32px;\n",
              "    padding: 0;\n",
              "    width: 32px;\n",
              "  }\n",
              "\n",
              "  .colab-df-quickchart:hover {\n",
              "    background-color: var(--hover-bg-color);\n",
              "    box-shadow: 0 1px 2px rgba(60, 64, 67, 0.3), 0 1px 3px 1px rgba(60, 64, 67, 0.15);\n",
              "    fill: var(--button-hover-fill-color);\n",
              "  }\n",
              "\n",
              "  .colab-df-quickchart-complete:disabled,\n",
              "  .colab-df-quickchart-complete:disabled:hover {\n",
              "    background-color: var(--disabled-bg-color);\n",
              "    fill: var(--disabled-fill-color);\n",
              "    box-shadow: none;\n",
              "  }\n",
              "\n",
              "  .colab-df-spinner {\n",
              "    border: 2px solid var(--fill-color);\n",
              "    border-color: transparent;\n",
              "    border-bottom-color: var(--fill-color);\n",
              "    animation:\n",
              "      spin 1s steps(1) infinite;\n",
              "  }\n",
              "\n",
              "  @keyframes spin {\n",
              "    0% {\n",
              "      border-color: transparent;\n",
              "      border-bottom-color: var(--fill-color);\n",
              "      border-left-color: var(--fill-color);\n",
              "    }\n",
              "    20% {\n",
              "      border-color: transparent;\n",
              "      border-left-color: var(--fill-color);\n",
              "      border-top-color: var(--fill-color);\n",
              "    }\n",
              "    30% {\n",
              "      border-color: transparent;\n",
              "      border-left-color: var(--fill-color);\n",
              "      border-top-color: var(--fill-color);\n",
              "      border-right-color: var(--fill-color);\n",
              "    }\n",
              "    40% {\n",
              "      border-color: transparent;\n",
              "      border-right-color: var(--fill-color);\n",
              "      border-top-color: var(--fill-color);\n",
              "    }\n",
              "    60% {\n",
              "      border-color: transparent;\n",
              "      border-right-color: var(--fill-color);\n",
              "    }\n",
              "    80% {\n",
              "      border-color: transparent;\n",
              "      border-right-color: var(--fill-color);\n",
              "      border-bottom-color: var(--fill-color);\n",
              "    }\n",
              "    90% {\n",
              "      border-color: transparent;\n",
              "      border-bottom-color: var(--fill-color);\n",
              "    }\n",
              "  }\n",
              "</style>\n",
              "\n",
              "  <script>\n",
              "    async function quickchart(key) {\n",
              "      const quickchartButtonEl =\n",
              "        document.querySelector('#' + key + ' button');\n",
              "      quickchartButtonEl.disabled = true;  // To prevent multiple clicks.\n",
              "      quickchartButtonEl.classList.add('colab-df-spinner');\n",
              "      try {\n",
              "        const charts = await google.colab.kernel.invokeFunction(\n",
              "            'suggestCharts', [key], {});\n",
              "      } catch (error) {\n",
              "        console.error('Error during call to suggestCharts:', error);\n",
              "      }\n",
              "      quickchartButtonEl.classList.remove('colab-df-spinner');\n",
              "      quickchartButtonEl.classList.add('colab-df-quickchart-complete');\n",
              "    }\n",
              "    (() => {\n",
              "      let quickchartButtonEl =\n",
              "        document.querySelector('#df-318744c6-907c-423d-89cc-4de12c155640 button');\n",
              "      quickchartButtonEl.style.display =\n",
              "        google.colab.kernel.accessAllowed ? 'block' : 'none';\n",
              "    })();\n",
              "  </script>\n",
              "</div>\n",
              "\n",
              "    </div>\n",
              "  </div>\n"
            ],
            "application/vnd.google.colaboratory.intrinsic+json": {
              "type": "dataframe",
              "repr_error": "Out of range float values are not JSON compliant: nan"
            }
          },
          "metadata": {}
        },
        {
          "output_type": "stream",
          "name": "stdout",
          "text": [
            "\n",
            "Pricing Dataset:\n"
          ]
        },
        {
          "output_type": "display_data",
          "data": {
            "text/plain": [
              "   Unnamed: 0.1  Unnamed: 0  avgRating listingBathroomLabel  bathrooms  \\\n",
              "0             0           0       4.95               1 bath        1.0   \n",
              "1             1           1       4.84               1 bath        1.0   \n",
              "2             2           2       4.94               1 bath        1.0   \n",
              "3             3           3       4.95               1 bath        1.0   \n",
              "4             4           4        NaN               1 bath        1.0   \n",
              "\n",
              "  listingBedLabel  bedrooms  beds  businessHostLabel     city  ... starRating  \\\n",
              "0           1 bed         1     1                NaN  Calgary  ...        5.0   \n",
              "1          2 beds         0     2                NaN  Calgary  ...        5.0   \n",
              "2           1 bed         1     1                NaN  Calgary  ...        5.0   \n",
              "3           1 bed         1     1                NaN  Calgary  ...        5.0   \n",
              "4           1 bed         1     1                NaN  Calgary  ...        NaN   \n",
              "\n",
              "                              title  avgRatingLocalized  accessibilityLabel  \\\n",
              "0         Home in Northeast Calgary           4.95 (20)   $90 CAD per night   \n",
              "1    Apartment in Northeast Calgary          4.84 (268)   $62 CAD per night   \n",
              "2  Guest suite in Northeast Calgary           4.94 (69)   $90 CAD per night   \n",
              "3         Loft in Northeast Calgary           4.95 (20)  $150 CAD per night   \n",
              "4    Apartment in Southeast Calgary                 New   $63 CAD per night   \n",
              "\n",
              "      price  qualifier adults  children  infants  pets  \n",
              "0   $90 CAD      night      1         0        0     0  \n",
              "1   $62 CAD      night      1         0        0     0  \n",
              "2   $90 CAD      night      1         0        0     0  \n",
              "3  $150 CAD      night      1         0        0     0  \n",
              "4   $63 CAD      night      1         0        0     0  \n",
              "\n",
              "[5 rows x 40 columns]"
            ],
            "text/html": [
              "\n",
              "  <div id=\"df-a7ad2dcf-a219-490d-81b1-841f6c1a4bb8\" class=\"colab-df-container\">\n",
              "    <div>\n",
              "<style scoped>\n",
              "    .dataframe tbody tr th:only-of-type {\n",
              "        vertical-align: middle;\n",
              "    }\n",
              "\n",
              "    .dataframe tbody tr th {\n",
              "        vertical-align: top;\n",
              "    }\n",
              "\n",
              "    .dataframe thead th {\n",
              "        text-align: right;\n",
              "    }\n",
              "</style>\n",
              "<table border=\"1\" class=\"dataframe\">\n",
              "  <thead>\n",
              "    <tr style=\"text-align: right;\">\n",
              "      <th></th>\n",
              "      <th>Unnamed: 0.1</th>\n",
              "      <th>Unnamed: 0</th>\n",
              "      <th>avgRating</th>\n",
              "      <th>listingBathroomLabel</th>\n",
              "      <th>bathrooms</th>\n",
              "      <th>listingBedLabel</th>\n",
              "      <th>bedrooms</th>\n",
              "      <th>beds</th>\n",
              "      <th>businessHostLabel</th>\n",
              "      <th>city</th>\n",
              "      <th>...</th>\n",
              "      <th>starRating</th>\n",
              "      <th>title</th>\n",
              "      <th>avgRatingLocalized</th>\n",
              "      <th>accessibilityLabel</th>\n",
              "      <th>price</th>\n",
              "      <th>qualifier</th>\n",
              "      <th>adults</th>\n",
              "      <th>children</th>\n",
              "      <th>infants</th>\n",
              "      <th>pets</th>\n",
              "    </tr>\n",
              "  </thead>\n",
              "  <tbody>\n",
              "    <tr>\n",
              "      <th>0</th>\n",
              "      <td>0</td>\n",
              "      <td>0</td>\n",
              "      <td>4.95</td>\n",
              "      <td>1 bath</td>\n",
              "      <td>1.0</td>\n",
              "      <td>1 bed</td>\n",
              "      <td>1</td>\n",
              "      <td>1</td>\n",
              "      <td>NaN</td>\n",
              "      <td>Calgary</td>\n",
              "      <td>...</td>\n",
              "      <td>5.0</td>\n",
              "      <td>Home in Northeast Calgary</td>\n",
              "      <td>4.95 (20)</td>\n",
              "      <td>$90 CAD per night</td>\n",
              "      <td>$90 CAD</td>\n",
              "      <td>night</td>\n",
              "      <td>1</td>\n",
              "      <td>0</td>\n",
              "      <td>0</td>\n",
              "      <td>0</td>\n",
              "    </tr>\n",
              "    <tr>\n",
              "      <th>1</th>\n",
              "      <td>1</td>\n",
              "      <td>1</td>\n",
              "      <td>4.84</td>\n",
              "      <td>1 bath</td>\n",
              "      <td>1.0</td>\n",
              "      <td>2 beds</td>\n",
              "      <td>0</td>\n",
              "      <td>2</td>\n",
              "      <td>NaN</td>\n",
              "      <td>Calgary</td>\n",
              "      <td>...</td>\n",
              "      <td>5.0</td>\n",
              "      <td>Apartment in Northeast Calgary</td>\n",
              "      <td>4.84 (268)</td>\n",
              "      <td>$62 CAD per night</td>\n",
              "      <td>$62 CAD</td>\n",
              "      <td>night</td>\n",
              "      <td>1</td>\n",
              "      <td>0</td>\n",
              "      <td>0</td>\n",
              "      <td>0</td>\n",
              "    </tr>\n",
              "    <tr>\n",
              "      <th>2</th>\n",
              "      <td>2</td>\n",
              "      <td>2</td>\n",
              "      <td>4.94</td>\n",
              "      <td>1 bath</td>\n",
              "      <td>1.0</td>\n",
              "      <td>1 bed</td>\n",
              "      <td>1</td>\n",
              "      <td>1</td>\n",
              "      <td>NaN</td>\n",
              "      <td>Calgary</td>\n",
              "      <td>...</td>\n",
              "      <td>5.0</td>\n",
              "      <td>Guest suite in Northeast Calgary</td>\n",
              "      <td>4.94 (69)</td>\n",
              "      <td>$90 CAD per night</td>\n",
              "      <td>$90 CAD</td>\n",
              "      <td>night</td>\n",
              "      <td>1</td>\n",
              "      <td>0</td>\n",
              "      <td>0</td>\n",
              "      <td>0</td>\n",
              "    </tr>\n",
              "    <tr>\n",
              "      <th>3</th>\n",
              "      <td>3</td>\n",
              "      <td>3</td>\n",
              "      <td>4.95</td>\n",
              "      <td>1 bath</td>\n",
              "      <td>1.0</td>\n",
              "      <td>1 bed</td>\n",
              "      <td>1</td>\n",
              "      <td>1</td>\n",
              "      <td>NaN</td>\n",
              "      <td>Calgary</td>\n",
              "      <td>...</td>\n",
              "      <td>5.0</td>\n",
              "      <td>Loft in Northeast Calgary</td>\n",
              "      <td>4.95 (20)</td>\n",
              "      <td>$150 CAD per night</td>\n",
              "      <td>$150 CAD</td>\n",
              "      <td>night</td>\n",
              "      <td>1</td>\n",
              "      <td>0</td>\n",
              "      <td>0</td>\n",
              "      <td>0</td>\n",
              "    </tr>\n",
              "    <tr>\n",
              "      <th>4</th>\n",
              "      <td>4</td>\n",
              "      <td>4</td>\n",
              "      <td>NaN</td>\n",
              "      <td>1 bath</td>\n",
              "      <td>1.0</td>\n",
              "      <td>1 bed</td>\n",
              "      <td>1</td>\n",
              "      <td>1</td>\n",
              "      <td>NaN</td>\n",
              "      <td>Calgary</td>\n",
              "      <td>...</td>\n",
              "      <td>NaN</td>\n",
              "      <td>Apartment in Southeast Calgary</td>\n",
              "      <td>New</td>\n",
              "      <td>$63 CAD per night</td>\n",
              "      <td>$63 CAD</td>\n",
              "      <td>night</td>\n",
              "      <td>1</td>\n",
              "      <td>0</td>\n",
              "      <td>0</td>\n",
              "      <td>0</td>\n",
              "    </tr>\n",
              "  </tbody>\n",
              "</table>\n",
              "<p>5 rows × 40 columns</p>\n",
              "</div>\n",
              "    <div class=\"colab-df-buttons\">\n",
              "\n",
              "  <div class=\"colab-df-container\">\n",
              "    <button class=\"colab-df-convert\" onclick=\"convertToInteractive('df-a7ad2dcf-a219-490d-81b1-841f6c1a4bb8')\"\n",
              "            title=\"Convert this dataframe to an interactive table.\"\n",
              "            style=\"display:none;\">\n",
              "\n",
              "  <svg xmlns=\"http://www.w3.org/2000/svg\" height=\"24px\" viewBox=\"0 -960 960 960\">\n",
              "    <path d=\"M120-120v-720h720v720H120Zm60-500h600v-160H180v160Zm220 220h160v-160H400v160Zm0 220h160v-160H400v160ZM180-400h160v-160H180v160Zm440 0h160v-160H620v160ZM180-180h160v-160H180v160Zm440 0h160v-160H620v160Z\"/>\n",
              "  </svg>\n",
              "    </button>\n",
              "\n",
              "  <style>\n",
              "    .colab-df-container {\n",
              "      display:flex;\n",
              "      gap: 12px;\n",
              "    }\n",
              "\n",
              "    .colab-df-convert {\n",
              "      background-color: #E8F0FE;\n",
              "      border: none;\n",
              "      border-radius: 50%;\n",
              "      cursor: pointer;\n",
              "      display: none;\n",
              "      fill: #1967D2;\n",
              "      height: 32px;\n",
              "      padding: 0 0 0 0;\n",
              "      width: 32px;\n",
              "    }\n",
              "\n",
              "    .colab-df-convert:hover {\n",
              "      background-color: #E2EBFA;\n",
              "      box-shadow: 0px 1px 2px rgba(60, 64, 67, 0.3), 0px 1px 3px 1px rgba(60, 64, 67, 0.15);\n",
              "      fill: #174EA6;\n",
              "    }\n",
              "\n",
              "    .colab-df-buttons div {\n",
              "      margin-bottom: 4px;\n",
              "    }\n",
              "\n",
              "    [theme=dark] .colab-df-convert {\n",
              "      background-color: #3B4455;\n",
              "      fill: #D2E3FC;\n",
              "    }\n",
              "\n",
              "    [theme=dark] .colab-df-convert:hover {\n",
              "      background-color: #434B5C;\n",
              "      box-shadow: 0px 1px 3px 1px rgba(0, 0, 0, 0.15);\n",
              "      filter: drop-shadow(0px 1px 2px rgba(0, 0, 0, 0.3));\n",
              "      fill: #FFFFFF;\n",
              "    }\n",
              "  </style>\n",
              "\n",
              "    <script>\n",
              "      const buttonEl =\n",
              "        document.querySelector('#df-a7ad2dcf-a219-490d-81b1-841f6c1a4bb8 button.colab-df-convert');\n",
              "      buttonEl.style.display =\n",
              "        google.colab.kernel.accessAllowed ? 'block' : 'none';\n",
              "\n",
              "      async function convertToInteractive(key) {\n",
              "        const element = document.querySelector('#df-a7ad2dcf-a219-490d-81b1-841f6c1a4bb8');\n",
              "        const dataTable =\n",
              "          await google.colab.kernel.invokeFunction('convertToInteractive',\n",
              "                                                    [key], {});\n",
              "        if (!dataTable) return;\n",
              "\n",
              "        const docLinkHtml = 'Like what you see? Visit the ' +\n",
              "          '<a target=\"_blank\" href=https://colab.research.google.com/notebooks/data_table.ipynb>data table notebook</a>'\n",
              "          + ' to learn more about interactive tables.';\n",
              "        element.innerHTML = '';\n",
              "        dataTable['output_type'] = 'display_data';\n",
              "        await google.colab.output.renderOutput(dataTable, element);\n",
              "        const docLink = document.createElement('div');\n",
              "        docLink.innerHTML = docLinkHtml;\n",
              "        element.appendChild(docLink);\n",
              "      }\n",
              "    </script>\n",
              "  </div>\n",
              "\n",
              "\n",
              "<div id=\"df-8a4e6e22-e638-437a-963d-711517463ca9\">\n",
              "  <button class=\"colab-df-quickchart\" onclick=\"quickchart('df-8a4e6e22-e638-437a-963d-711517463ca9')\"\n",
              "            title=\"Suggest charts\"\n",
              "            style=\"display:none;\">\n",
              "\n",
              "<svg xmlns=\"http://www.w3.org/2000/svg\" height=\"24px\"viewBox=\"0 0 24 24\"\n",
              "     width=\"24px\">\n",
              "    <g>\n",
              "        <path d=\"M19 3H5c-1.1 0-2 .9-2 2v14c0 1.1.9 2 2 2h14c1.1 0 2-.9 2-2V5c0-1.1-.9-2-2-2zM9 17H7v-7h2v7zm4 0h-2V7h2v10zm4 0h-2v-4h2v4z\"/>\n",
              "    </g>\n",
              "</svg>\n",
              "  </button>\n",
              "\n",
              "<style>\n",
              "  .colab-df-quickchart {\n",
              "      --bg-color: #E8F0FE;\n",
              "      --fill-color: #1967D2;\n",
              "      --hover-bg-color: #E2EBFA;\n",
              "      --hover-fill-color: #174EA6;\n",
              "      --disabled-fill-color: #AAA;\n",
              "      --disabled-bg-color: #DDD;\n",
              "  }\n",
              "\n",
              "  [theme=dark] .colab-df-quickchart {\n",
              "      --bg-color: #3B4455;\n",
              "      --fill-color: #D2E3FC;\n",
              "      --hover-bg-color: #434B5C;\n",
              "      --hover-fill-color: #FFFFFF;\n",
              "      --disabled-bg-color: #3B4455;\n",
              "      --disabled-fill-color: #666;\n",
              "  }\n",
              "\n",
              "  .colab-df-quickchart {\n",
              "    background-color: var(--bg-color);\n",
              "    border: none;\n",
              "    border-radius: 50%;\n",
              "    cursor: pointer;\n",
              "    display: none;\n",
              "    fill: var(--fill-color);\n",
              "    height: 32px;\n",
              "    padding: 0;\n",
              "    width: 32px;\n",
              "  }\n",
              "\n",
              "  .colab-df-quickchart:hover {\n",
              "    background-color: var(--hover-bg-color);\n",
              "    box-shadow: 0 1px 2px rgba(60, 64, 67, 0.3), 0 1px 3px 1px rgba(60, 64, 67, 0.15);\n",
              "    fill: var(--button-hover-fill-color);\n",
              "  }\n",
              "\n",
              "  .colab-df-quickchart-complete:disabled,\n",
              "  .colab-df-quickchart-complete:disabled:hover {\n",
              "    background-color: var(--disabled-bg-color);\n",
              "    fill: var(--disabled-fill-color);\n",
              "    box-shadow: none;\n",
              "  }\n",
              "\n",
              "  .colab-df-spinner {\n",
              "    border: 2px solid var(--fill-color);\n",
              "    border-color: transparent;\n",
              "    border-bottom-color: var(--fill-color);\n",
              "    animation:\n",
              "      spin 1s steps(1) infinite;\n",
              "  }\n",
              "\n",
              "  @keyframes spin {\n",
              "    0% {\n",
              "      border-color: transparent;\n",
              "      border-bottom-color: var(--fill-color);\n",
              "      border-left-color: var(--fill-color);\n",
              "    }\n",
              "    20% {\n",
              "      border-color: transparent;\n",
              "      border-left-color: var(--fill-color);\n",
              "      border-top-color: var(--fill-color);\n",
              "    }\n",
              "    30% {\n",
              "      border-color: transparent;\n",
              "      border-left-color: var(--fill-color);\n",
              "      border-top-color: var(--fill-color);\n",
              "      border-right-color: var(--fill-color);\n",
              "    }\n",
              "    40% {\n",
              "      border-color: transparent;\n",
              "      border-right-color: var(--fill-color);\n",
              "      border-top-color: var(--fill-color);\n",
              "    }\n",
              "    60% {\n",
              "      border-color: transparent;\n",
              "      border-right-color: var(--fill-color);\n",
              "    }\n",
              "    80% {\n",
              "      border-color: transparent;\n",
              "      border-right-color: var(--fill-color);\n",
              "      border-bottom-color: var(--fill-color);\n",
              "    }\n",
              "    90% {\n",
              "      border-color: transparent;\n",
              "      border-bottom-color: var(--fill-color);\n",
              "    }\n",
              "  }\n",
              "</style>\n",
              "\n",
              "  <script>\n",
              "    async function quickchart(key) {\n",
              "      const quickchartButtonEl =\n",
              "        document.querySelector('#' + key + ' button');\n",
              "      quickchartButtonEl.disabled = true;  // To prevent multiple clicks.\n",
              "      quickchartButtonEl.classList.add('colab-df-spinner');\n",
              "      try {\n",
              "        const charts = await google.colab.kernel.invokeFunction(\n",
              "            'suggestCharts', [key], {});\n",
              "      } catch (error) {\n",
              "        console.error('Error during call to suggestCharts:', error);\n",
              "      }\n",
              "      quickchartButtonEl.classList.remove('colab-df-spinner');\n",
              "      quickchartButtonEl.classList.add('colab-df-quickchart-complete');\n",
              "    }\n",
              "    (() => {\n",
              "      let quickchartButtonEl =\n",
              "        document.querySelector('#df-8a4e6e22-e638-437a-963d-711517463ca9 button');\n",
              "      quickchartButtonEl.style.display =\n",
              "        google.colab.kernel.accessAllowed ? 'block' : 'none';\n",
              "    })();\n",
              "  </script>\n",
              "</div>\n",
              "\n",
              "    </div>\n",
              "  </div>\n"
            ],
            "application/vnd.google.colaboratory.intrinsic+json": {
              "type": "dataframe"
            }
          },
          "metadata": {}
        }
      ]
    },
    {
      "cell_type": "markdown",
      "source": [
        "# Data Cleaning and Preprocessing\n"
      ],
      "metadata": {
        "id": "RfPGNS6zbyDB"
      }
    },
    {
      "cell_type": "code",
      "source": [
        "# Check for missing values in each dataset\n",
        "print(\"Missing values in Listings Dataset:\")\n",
        "print(df_listings.isnull().sum())\n",
        "\n",
        "print(\"\\nMissing values in Reviews Dataset:\")\n",
        "print(df_reviews.isnull().sum())\n",
        "\n",
        "print(\"\\nMissing values in Pricing Dataset:\")\n",
        "print(df_pricing.isnull().sum())\n"
      ],
      "metadata": {
        "colab": {
          "base_uri": "https://localhost:8080/"
        },
        "id": "JBoIz5dF8fRD",
        "outputId": "74a87e88-4846-43f6-c51d-d8939b349f15"
      },
      "execution_count": 19,
      "outputs": [
        {
          "output_type": "stream",
          "name": "stdout",
          "text": [
            "Missing values in Listings Dataset:\n",
            "title                                                 0\n",
            "propertyType                                          0\n",
            "location                                              0\n",
            "personCapacity                                        0\n",
            "descriptionLanguage                                   0\n",
            "                                                   ... \n",
            "sections.sleepingArrangement.arrangementDetails     191\n",
            "sections.title.actionableIcon.accessibilityLabel    493\n",
            "sections.title.actionableIcon.icon                  493\n",
            "sections.title.actionableIcon.title                 495\n",
            "sections.title.actionableIcon.subtitle              495\n",
            "Length: 172, dtype: int64\n",
            "\n",
            "Missing values in Reviews Dataset:\n",
            "property_id                0\n",
            "review_id                  0\n",
            "reviewer_name              0\n",
            "reviewer_picture_url       0\n",
            "reviewer_badges            0\n",
            "review_date                0\n",
            "rating                     0\n",
            "comments                   0\n",
            "disclaimer                 0\n",
            "localized_date             0\n",
            "localized_review        2220\n",
            "language                   0\n",
            "reviewee_name           2226\n",
            "dtype: int64\n",
            "\n",
            "Missing values in Pricing Dataset:\n",
            "Unnamed: 0.1               0\n",
            "Unnamed: 0                 0\n",
            "avgRating                 77\n",
            "listingBathroomLabel       0\n",
            "bathrooms                  0\n",
            "listingBedLabel            4\n",
            "bedrooms                   0\n",
            "beds                       0\n",
            "businessHostLabel        500\n",
            "city                       0\n",
            "listingGuestLabel          0\n",
            "id                         0\n",
            "isAutoTranslated           0\n",
            "isNewListing               0\n",
            "isSuperhost                0\n",
            "relaxedFilterLabels      500\n",
            "localizedCityName          0\n",
            "localizedDistanceText    500\n",
            "locationTitle            500\n",
            "locationContext          500\n",
            "listingName                0\n",
            "listingObjType             0\n",
            "neighborhood             500\n",
            "previewTags                0\n",
            "publicAddress              0\n",
            "reviewsCount               0\n",
            "roomType                   0\n",
            "roomTypeCategory           0\n",
            "roomTypeId               500\n",
            "spaceType                  0\n",
            "starRating                77\n",
            "title                      0\n",
            "avgRatingLocalized        10\n",
            "accessibilityLabel         0\n",
            "price                      0\n",
            "qualifier                  0\n",
            "adults                     0\n",
            "children                   0\n",
            "infants                    0\n",
            "pets                       0\n",
            "dtype: int64\n"
          ]
        }
      ]
    },
    {
      "cell_type": "code",
      "source": [
        "# Check for duplicate rows in each dataset\n",
        "print(\"Duplicate rows in Listings Dataset:\", df_listings.duplicated().sum())\n",
        "print(\"Duplicate rows in Reviews Dataset:\", df_reviews.duplicated().sum())\n",
        "print(\"Duplicate rows in Pricing Dataset:\", df_pricing.duplicated().sum())\n"
      ],
      "metadata": {
        "colab": {
          "base_uri": "https://localhost:8080/"
        },
        "id": "VwW3PlLp8fUg",
        "outputId": "1aa60816-09c2-4fd2-de58-00ce68973e23"
      },
      "execution_count": 20,
      "outputs": [
        {
          "output_type": "stream",
          "name": "stdout",
          "text": [
            "Duplicate rows in Listings Dataset: 252\n",
            "Duplicate rows in Reviews Dataset: 203\n",
            "Duplicate rows in Pricing Dataset: 0\n"
          ]
        }
      ]
    },
    {
      "cell_type": "code",
      "source": [],
      "metadata": {
        "id": "HaAQZfHw9P7Z"
      },
      "execution_count": null,
      "outputs": []
    },
    {
      "cell_type": "code",
      "source": [
        "# Display column names of all datasets\n",
        "print(\"Listings Dataset Columns:\", df_listings.columns.tolist())\n",
        "print(\"\\nReviews Dataset Columns:\", df_reviews.columns.tolist())\n",
        "print(\"\\nPricing Dataset Columns:\", df_pricing.columns.tolist())\n"
      ],
      "metadata": {
        "colab": {
          "base_uri": "https://localhost:8080/"
        },
        "id": "XtxI63HA8pXB",
        "outputId": "07b73257-edbf-44b0-f736-99d755561325"
      },
      "execution_count": 21,
      "outputs": [
        {
          "output_type": "stream",
          "name": "stdout",
          "text": [
            "Listings Dataset Columns: ['title', 'propertyType', 'location', 'personCapacity', 'descriptionLanguage', 'listingLat', 'listingLng', 'homeTier', 'roomType', 'visibleReviewCount', 'valueRating', 'locationRating', 'communicationRating', 'checkinRating', 'accuracyRating', 'cleanlinessRating', 'guestSatisfactionOverall', 'productCountry', 'property_id', 'bookingData.allowsChildren', 'bookingData.allowsInfants', 'bookingData.allowsPets', 'bookingData.hostId', 'bookingData.hostName', 'bookingData.hostProfilePhotoUrl', 'bookingData.isHotelRatePlanEnabled', 'bookingData.isSuperhost', 'bookingData.maxNights', 'bookingData.minNights', 'bookingData.reviewsCount', 'bookingData.reviewsRating', 'bookingData.roomAndPropertyType', 'bookingData.barPrice', 'bookingData.chinaDiscountModalData', 'bookingData.canInstantBook', 'bookingData.price', 'bookingData.cancellationPolicies', 'bookingData.structuredDisplayPrice', 'bookingData.productItemDetail', 'sections.bookIt.available', 'sections.bookIt.title', 'sections.bookIt.cancellationPolicyLoggingEventData', 'sections.bookIt.calendarTitle', 'sections.bookIt.calendarSubtitle', 'sections.bookIt.descriptionItems', 'sections.bookIt.discountCopy', 'sections.bookIt.maxGuestCapacity', 'sections.bookIt.barPrice', 'sections.bookIt.bookItButtonByPlacement', 'sections.bookIt.reviewItem.accessibilityLabel', 'sections.bookIt.reviewItem.title', 'sections.bookIt.structuredDisplayPrice', 'sections.bookIt.selectedDatesLink', 'sections.bookIt.selectedNights', 'sections.bookIt.productId', 'sections.education.pdpEducationContentData', 'sections.availabilityCalendarDefault.title', 'sections.availabilityCalendarDefault.subtitle', 'sections.availabilityCalendarDefault.priceDisclaimer', 'sections.availabilityCalendarDefault.reviewRating', 'sections.availabilityCalendarDefault.reviewCount', 'sections.availabilityCalendarDefault.reviewAccessibilityLabel', 'sections.availabilityCalendarDefault.descriptionItems', 'sections.petCounts.title', 'sections.petCounts.titleStyle', 'sections.petCounts.html.htmlText', 'sections.petCounts.html.recommendedNumberOfLines', 'sections.petCounts.icon', 'sections.petCounts.mediaItem.baseUrl', 'sections.petCounts.subtitle', 'sections.description.title', 'sections.description.subtitle', 'sections.description.items', 'sections.description.logoData', 'sections.description.mediaItems', 'sections.hero.mediaItems', 'sections.hero.previewImages', 'sections.hero.seePhotosButton.accessibilityLabel', 'sections.hero.seePhotosButton.icon', 'sections.hero.seePhotosButton.title', 'sections.hero.seePhotosButton.subtitle', 'sections.hero.previewImageLoggingEventData.loggingId', 'sections.hero.previewImageLoggingEventData.component', 'sections.hero.previewImageLoggingEventData.section', 'sections.hero.previewImageLoggingEventData.eventData', 'sections.hero.previewImageLoggingEventData.eventDataSchemaName', 'sections.title.billboardButton', 'sections.title.kicker', 'sections.title.kickerItems', 'sections.title.actionableIcon', 'sections.title.icon', 'sections.title.title', 'sections.title.overviewItems', 'sections.title.subtitle', 'sections.highlights.title', 'sections.highlights.highlights', 'sections.descriptionDefault.descriptionSummary.htmlText', 'sections.descriptionDefault.descriptionSummary.minimumNumberOfLinesForTruncation', 'sections.descriptionDefault.descriptionSummary.recommendedNumberOfLines', 'sections.descriptionDefault.hasExtraDescriptionDetails', 'sections.descriptionDefault.htmlDescription', 'sections.descriptionDefault.hostQuote', 'sections.descriptionDefault.title', 'sections.amenities.title', 'sections.amenities.previewAmenitiesGroups', 'sections.amenities.seeAllAmenitiesGroups', 'sections.amenities.seeAllAmenitiesButton.accessibilityLabel', 'sections.amenities.seeAllAmenitiesButton.icon', 'sections.amenities.seeAllAmenitiesButton.title', 'sections.amenities.seeAllAmenitiesButton.subtitle', 'sections.location.address', 'sections.location.homeIcon', 'sections.location.hostGuidebookButton', 'sections.location.lat', 'sections.location.lng', 'sections.location.locationDisclaimer', 'sections.location.locationDisclaimerItems', 'sections.location.previewLocationDetails', 'sections.location.seeAllDetailsButton', 'sections.location.seeAllLocationDetails', 'sections.location.subtitle', 'sections.location.title', 'sections.location.mapMarkerRadiusInMeters', 'sections.reviewsDefault.title', 'sections.reviewsDefault.heading.accessibilityLabel', 'sections.reviewsDefault.heading.icon', 'sections.reviewsDefault.heading.title', 'sections.reviewsDefault.heading.subtitle', 'sections.reviewsDefault.ratings', 'sections.policies.additionalHouseRules', 'sections.policies.additionalHouseRulesTitle', 'sections.policies.cancellationPolicyForDisplay', 'sections.policies.cancellationPolicies', 'sections.policies.cancellationPolicyTitle', 'sections.policies.discountData', 'sections.policies.houseRules', 'sections.policies.houseRulesTitle', 'sections.policies.listingExpectations', 'sections.policies.listingExpectationsTitle', 'sections.policies.reportButton', 'sections.policies.seeAllHouseRulesButton.accessibilityLabel', 'sections.policies.seeAllHouseRulesButton.icon', 'sections.policies.seeAllHouseRulesButton.title', 'sections.policies.seeAllHouseRulesButton.subtitle', 'sections.policies.seeCancellationPolicyButton.accessibilityLabel', 'sections.policies.seeCancellationPolicyButton.icon', 'sections.policies.seeCancellationPolicyButton.title', 'sections.policies.seeCancellationPolicyButton.subtitle', 'sections.policies.title', 'sections.policies.safetyAndPropertyTitle', 'sections.policies.previewSafetyAndProperties', 'sections.policies.seeAllSafetyAndPropertyButton.accessibilityLabel', 'sections.policies.seeAllSafetyAndPropertyButton.icon', 'sections.policies.seeAllSafetyAndPropertyButton.title', 'sections.policies.seeAllSafetyAndPropertyButton.subtitle', 'sections.policies.safetyExpectationsAndAmenities', 'sections.photoTour.title', 'sections.photoTour.mediaItems', 'sections.location.hostGuidebookButton.accessibilityLabel', 'sections.location.hostGuidebookButton.icon', 'sections.location.hostGuidebookButton.title', 'sections.location.hostGuidebookButton.subtitle', 'sections.location.seeAllDetailsButton.accessibilityLabel', 'sections.location.seeAllDetailsButton.icon', 'sections.location.seeAllDetailsButton.title', 'sections.location.seeAllDetailsButton.subtitle', 'sections.sleepingArrangement.title', 'sections.sleepingArrangement.arrangementDetails', 'sections.title.actionableIcon.accessibilityLabel', 'sections.title.actionableIcon.icon', 'sections.title.actionableIcon.title', 'sections.title.actionableIcon.subtitle']\n",
            "\n",
            "Reviews Dataset Columns: ['property_id', 'review_id', 'reviewer_name', 'reviewer_picture_url', 'reviewer_badges', 'review_date', 'rating', 'comments', 'disclaimer', 'localized_date', 'localized_review', 'language', 'reviewee_name']\n",
            "\n",
            "Pricing Dataset Columns: ['Unnamed: 0.1', 'Unnamed: 0', 'avgRating', 'listingBathroomLabel', 'bathrooms', 'listingBedLabel', 'bedrooms', 'beds', 'businessHostLabel', 'city', 'listingGuestLabel', 'id', 'isAutoTranslated', 'isNewListing', 'isSuperhost', 'relaxedFilterLabels', 'localizedCityName', 'localizedDistanceText', 'locationTitle', 'locationContext', 'listingName', 'listingObjType', 'neighborhood', 'previewTags', 'publicAddress', 'reviewsCount', 'roomType', 'roomTypeCategory', 'roomTypeId', 'spaceType', 'starRating', 'title', 'avgRatingLocalized', 'accessibilityLabel', 'price', 'qualifier', 'adults', 'children', 'infants', 'pets']\n"
          ]
        }
      ]
    },
    {
      "cell_type": "markdown",
      "source": [
        "remove duplicates\n"
      ],
      "metadata": {
        "id": "KrbadPKS9k09"
      }
    },
    {
      "cell_type": "code",
      "source": [
        "# Remove duplicate rows\n",
        "df_listings.drop_duplicates(inplace=True)\n",
        "df_reviews.drop_duplicates(inplace=True)\n",
        "df_pricing.drop_duplicates(inplace=True)\n",
        "\n",
        "# Confirm duplicates are removed\n",
        "print(\"Duplicates in Listings:\", df_listings.duplicated().sum())\n",
        "print(\"Duplicates in Reviews:\", df_reviews.duplicated().sum())\n",
        "print(\"Duplicates in Pricing:\", df_pricing.duplicated().sum())\n"
      ],
      "metadata": {
        "colab": {
          "base_uri": "https://localhost:8080/"
        },
        "id": "tX54QMT88pkX",
        "outputId": "5e9f2af0-e492-44e0-ebc5-b88490d74130"
      },
      "execution_count": 22,
      "outputs": [
        {
          "output_type": "stream",
          "name": "stdout",
          "text": [
            "Duplicates in Listings: 0\n",
            "Duplicates in Reviews: 0\n",
            "Duplicates in Pricing: 0\n"
          ]
        }
      ]
    },
    {
      "cell_type": "code",
      "source": [
        "# Drop empty and irrelevant columns\n",
        "df_listings.dropna(axis=1, how=\"all\", inplace=True)\n",
        "df_reviews.drop(columns=[\"reviewee_name\"], inplace=True)\n",
        "df_pricing.drop(columns=[\"Unnamed: 0\", \"Unnamed: 0.1\", \"businessHostLabel\",\n",
        "                         \"relaxedFilterLabels\", \"localizedDistanceText\",\n",
        "                         \"locationTitle\", \"neighborhood\", \"roomTypeId\"], inplace=True)\n",
        "\n",
        "# Show new shapes of datasets\n",
        "print(\"Listings shape:\", df_listings.shape)\n",
        "print(\"Reviews shape:\", df_reviews.shape)\n",
        "print(\"Pricing shape:\", df_pricing.shape)\n"
      ],
      "metadata": {
        "colab": {
          "base_uri": "https://localhost:8080/"
        },
        "id": "tonmtr-r9g0o",
        "outputId": "3fc03367-1d04-43bd-f9fa-fdbb56b8e05c"
      },
      "execution_count": 23,
      "outputs": [
        {
          "output_type": "stream",
          "name": "stdout",
          "text": [
            "Listings shape: (243, 98)\n",
            "Reviews shape: (2023, 12)\n",
            "Pricing shape: (500, 32)\n"
          ]
        }
      ]
    },
    {
      "cell_type": "code",
      "source": [
        "# Fill missing numerical values with mean\n",
        "df_pricing[\"avgRating\"].fillna(df_pricing[\"avgRating\"].mean(), inplace=True)\n",
        "df_pricing[\"starRating\"].fillna(df_pricing[\"starRating\"].mean(), inplace=True)\n",
        "\n",
        "# Fill missing categorical values with \"Unknown\"\n",
        "df_pricing.fillna(\"Unknown\", inplace=True)\n",
        "df_listings.fillna(\"Unknown\", inplace=True)\n",
        "df_reviews.fillna(\"Unknown\", inplace=True)\n",
        "\n",
        "# Confirm missing values are handled\n",
        "print(\"Missing values in Pricing:\", df_pricing.isnull().sum().sum())\n",
        "print(\"Missing values in Listings:\", df_listings.isnull().sum().sum())\n",
        "print(\"Missing values in Reviews:\", df_reviews.isnull().sum().sum())\n"
      ],
      "metadata": {
        "colab": {
          "base_uri": "https://localhost:8080/"
        },
        "id": "yU8SH3qi9sAE",
        "outputId": "8d663e05-1464-467c-b753-10612cd06536"
      },
      "execution_count": 24,
      "outputs": [
        {
          "output_type": "stream",
          "name": "stdout",
          "text": [
            "Missing values in Pricing: 0\n",
            "Missing values in Listings: 0\n",
            "Missing values in Reviews: 0\n"
          ]
        }
      ]
    },
    {
      "cell_type": "code",
      "source": [
        "print(df_pricing[\"price\"].unique()[:20])  # Show first 20 unique values\n"
      ],
      "metadata": {
        "colab": {
          "base_uri": "https://localhost:8080/"
        },
        "id": "8RFjrZ6G9wLr",
        "outputId": "183e1202-14e6-41fa-a38d-8e285d059e31"
      },
      "execution_count": 26,
      "outputs": [
        {
          "output_type": "stream",
          "name": "stdout",
          "text": [
            "['$90\\xa0CAD' '$62\\xa0CAD' '$150\\xa0CAD' '$63\\xa0CAD' '$80\\xa0CAD'\n",
            " '$99\\xa0CAD' '$82\\xa0CAD' '$89\\xa0CAD' '$100\\xa0CAD' '$103\\xa0CAD'\n",
            " '$122\\xa0CAD' '$71\\xa0CAD' '$98\\xa0CAD' '$132\\xa0CAD' '$77\\xa0CAD'\n",
            " '$105\\xa0CAD' '$96\\xa0CAD' '$110\\xa0CAD' '$91\\xa0CAD' '$101\\xa0CAD']\n"
          ]
        }
      ]
    },
    {
      "cell_type": "code",
      "source": [
        "# Remove non-numeric characters and convert to float\n",
        "df_pricing[\"price\"] = pd.to_numeric(df_pricing[\"price\"].replace('[^\\d.]', '', regex=True), errors='coerce')\n",
        "\n",
        "# Check if conversion was successful\n",
        "print(df_pricing.dtypes[\"price\"])\n",
        "print(df_pricing[\"price\"].head())  # Verify the first few converted values\n"
      ],
      "metadata": {
        "colab": {
          "base_uri": "https://localhost:8080/"
        },
        "id": "ghQaqWxn-MSA",
        "outputId": "4eee1ed3-39ba-468b-d173-e72639c7f657"
      },
      "execution_count": 27,
      "outputs": [
        {
          "output_type": "stream",
          "name": "stdout",
          "text": [
            "int64\n",
            "0     90\n",
            "1     62\n",
            "2     90\n",
            "3    150\n",
            "4     63\n",
            "Name: price, dtype: int64\n"
          ]
        }
      ]
    },
    {
      "cell_type": "code",
      "source": [
        "# Remove non-numeric characters and convert to float\n",
        "df_pricing[\"price\"] = pd.to_numeric(df_pricing[\"price\"].replace('[^\\d.]', '', regex=True), errors='coerce')\n",
        "\n",
        "# Check if conversion was successful\n",
        "print(df_pricing.dtypes[\"price\"])\n",
        "print(df_pricing[\"price\"].head())  # Verify the first few converted values\n"
      ],
      "metadata": {
        "colab": {
          "base_uri": "https://localhost:8080/"
        },
        "id": "36o_HhmL-Ofs",
        "outputId": "8f54c901-d34f-467e-f530-0459ab13fa20"
      },
      "execution_count": 28,
      "outputs": [
        {
          "output_type": "stream",
          "name": "stdout",
          "text": [
            "int64\n",
            "0     90\n",
            "1     62\n",
            "2     90\n",
            "3    150\n",
            "4     63\n",
            "Name: price, dtype: int64\n"
          ]
        }
      ]
    },
    {
      "cell_type": "code",
      "source": [
        "import matplotlib.pyplot as plt\n",
        "import seaborn as sns\n",
        "\n",
        "# Plot the price distribution\n",
        "plt.figure(figsize=(10, 5))\n",
        "sns.histplot(df_pricing[\"price\"], bins=50, kde=True)\n",
        "plt.xlabel(\"Price ($)\")\n",
        "plt.ylabel(\"Count of Listings\")\n",
        "plt.title(\"Distribution of Airbnb Prices\")\n",
        "plt.show()\n"
      ],
      "metadata": {
        "colab": {
          "base_uri": "https://localhost:8080/",
          "height": 403
        },
        "id": "DUe75gnz-kff",
        "outputId": "52c227c0-b109-4597-dba6-bcadf41f32ee"
      },
      "execution_count": 30,
      "outputs": [
        {
          "output_type": "display_data",
          "data": {
            "text/plain": [
              "<Figure size 1000x500 with 1 Axes>"
            ],
            "image/png": "[encoded data removed]"
          },
          "metadata": {}
        }
      ]
    },
    {
      "cell_type": "code",
      "source": [
        "# Find top 10 most expensive listings\n",
        "top_price_listings = df_pricing.sort_values(by=\"price\", ascending=False).head(10)\n",
        "print(top_price_listings[[\"listingName\", \"city\", \"price\", \"starRating\"]])\n"
      ],
      "metadata": {
        "colab": {
          "base_uri": "https://localhost:8080/"
        },
        "id": "gJK-z1Xb-qVq",
        "outputId": "fbe1863f-eb7f-4dfc-eee4-6a98a3764f56"
      },
      "execution_count": 31,
      "outputs": [
        {
          "output_type": "stream",
          "name": "stdout",
          "text": [
            "                                           listingName     city  price  \\\n",
            "185  The Experience - Pool Hot Tub Theater Games Rm...  Calgary    536   \n",
            "379  The Experience - Pool Hot Tub Theater Games Rm...  Calgary    536   \n",
            "120  Luxury Lodge: 180° Downtown, Mountain, Tower V...  Calgary    519   \n",
            "274  Luxury Lodge: 180° Downtown, Mountain, Tower V...  Calgary    519   \n",
            "490      2 Story luxury  penthouse in downtown Calgary  Calgary    279   \n",
            "281      2 Story luxury  penthouse in downtown Calgary  Calgary    279   \n",
            "134     3 mins to downtown, Full house with central AC  Calgary    251   \n",
            "135                 Modern 2B 2.5B spacious town house  Calgary    249   \n",
            "271   Unique Casa Vibes!  Hot tub | Gym | Arcade Games  Calgary    249   \n",
            "92    Unique Casa Vibes!  Hot tub | Gym | Arcade Games  Calgary    249   \n",
            "\n",
            "     starRating  \n",
            "185         5.0  \n",
            "379         5.0  \n",
            "120         5.0  \n",
            "274         5.0  \n",
            "490         5.0  \n",
            "281         5.0  \n",
            "134         5.0  \n",
            "135         5.0  \n",
            "271         5.0  \n",
            "92          5.0  \n"
          ]
        }
      ]
    },
    {
      "cell_type": "code",
      "source": [
        "# Count of property types\n",
        "print(df_pricing[\"roomType\"].value_counts())\n",
        "\n",
        "# Average price per room type\n",
        "print(df_pricing.groupby(\"roomType\")[\"price\"].mean().sort_values(ascending=False))\n"
      ],
      "metadata": {
        "colab": {
          "base_uri": "https://localhost:8080/"
        },
        "id": "KpS5LTh1-qg4",
        "outputId": "3f1b8b68-5492-4cab-fb1b-d91b6159be64"
      },
      "execution_count": 32,
      "outputs": [
        {
          "output_type": "stream",
          "name": "stdout",
          "text": [
            "Entire home/apt    439\n",
            "Private room        60\n",
            "Shared room          1\n",
            "Name: roomType, dtype: int64\n",
            "roomType\n",
            "Entire home/apt    105.015945\n",
            "Private room        43.050000\n",
            "Shared room         28.000000\n",
            "Name: price, dtype: float64\n"
          ]
        }
      ]
    },
    {
      "cell_type": "code",
      "source": [
        "# Compare Superhosts vs Non-Superhosts in price and ratings\n",
        "superhost_comparison = df_pricing.groupby(\"isSuperhost\")[[\"price\", \"avgRating\"]].mean()\n",
        "print(superhost_comparison)\n"
      ],
      "metadata": {
        "colab": {
          "base_uri": "https://localhost:8080/"
        },
        "id": "4hLaaSJ5-u4g",
        "outputId": "e2cedc2b-7eee-4a7c-c30b-21ce9700efe9"
      },
      "execution_count": 33,
      "outputs": [
        {
          "output_type": "stream",
          "name": "stdout",
          "text": [
            "                  price  avgRating\n",
            "isSuperhost                       \n",
            "False         90.207792   4.822636\n",
            "True         100.638728   4.897128\n"
          ]
        }
      ]
    },
    {
      "cell_type": "code",
      "source": [
        "# Correlation between numerical features and price\n",
        "correlation = df_pricing.corr()[\"price\"].sort_values(ascending=False)\n",
        "print(correlation)\n",
        "\n"
      ],
      "metadata": {
        "colab": {
          "base_uri": "https://localhost:8080/"
        },
        "id": "9sDCKKoJ-vGA",
        "outputId": "ffdbb51b-67fc-440d-c741-37e2a2aa2a53"
      },
      "execution_count": 34,
      "outputs": [
        {
          "output_type": "stream",
          "name": "stdout",
          "text": [
            "price               1.000000\n",
            "bedrooms            0.556301\n",
            "bathrooms           0.495120\n",
            "beds                0.475656\n",
            "avgRating           0.194552\n",
            "id                  0.091697\n",
            "isSuperhost         0.090398\n",
            "starRating          0.089611\n",
            "isAutoTranslated   -0.064746\n",
            "reviewsCount       -0.076532\n",
            "isNewListing       -0.112383\n",
            "adults                   NaN\n",
            "children                 NaN\n",
            "infants                  NaN\n",
            "pets                     NaN\n",
            "Name: price, dtype: float64\n"
          ]
        },
        {
          "output_type": "stream",
          "name": "stderr",
          "text": [
            "<ipython-input-34-27b45179e6f2>:2: FutureWarning: The default value of numeric_only in DataFrame.corr is deprecated. In a future version, it will default to False. Select only valid columns or specify the value of numeric_only to silence this warning.\n",
            "  correlation = df_pricing.corr()[\"price\"].sort_values(ascending=False)\n"
          ]
        }
      ]
    },
    {
      "cell_type": "code",
      "source": [
        "import pandas as pd\n",
        "\n",
        "# Load dataset\n",
        "df_pricing = pd.read_csv(\"/content/property_by_place.csv\")\n",
        "\n",
        "# Display column names\n",
        "print(df_pricing.columns)\n"
      ],
      "metadata": {
        "colab": {
          "base_uri": "https://localhost:8080/"
        },
        "id": "PxDLdIyE-zeu",
        "outputId": "94a0c1ef-f67e-458c-8181-11aae35fd570"
      },
      "execution_count": 35,
      "outputs": [
        {
          "output_type": "stream",
          "name": "stdout",
          "text": [
            "Index(['Unnamed: 0.1', 'Unnamed: 0', 'avgRating', 'listingBathroomLabel',\n",
            "       'bathrooms', 'listingBedLabel', 'bedrooms', 'beds', 'businessHostLabel',\n",
            "       'city', 'listingGuestLabel', 'id', 'isAutoTranslated', 'isNewListing',\n",
            "       'isSuperhost', 'relaxedFilterLabels', 'localizedCityName',\n",
            "       'localizedDistanceText', 'locationTitle', 'locationContext',\n",
            "       'listingName', 'listingObjType', 'neighborhood', 'previewTags',\n",
            "       'publicAddress', 'reviewsCount', 'roomType', 'roomTypeCategory',\n",
            "       'roomTypeId', 'spaceType', 'starRating', 'title', 'avgRatingLocalized',\n",
            "       'accessibilityLabel', 'price', 'qualifier', 'adults', 'children',\n",
            "       'infants', 'pets'],\n",
            "      dtype='object')\n"
          ]
        }
      ]
    },
    {
      "source": [
        "import pandas as pd\n",
        "import numpy as np\n",
        "\n",
        "# Load dataset\n",
        "df_pricing = pd.read_csv(\"/content/property_by_place.csv\")\n",
        "\n",
        "# Remove unnecessary columns\n",
        "df_pricing = df_pricing.drop(columns=[\"Unnamed: 0\", \"Unnamed: 0.1\"], errors='ignore')\n",
        "\n",
        "# Convert price to numeric (removing any currency symbols and non-breaking spaces if present)\n",
        "df_pricing[\"price\"] = df_pricing[\"price\"].str.replace('[\\$,\\xa0CAD]', '', regex=True).astype(float)\n",
        "\n",
        "# Drop rows with missing price values\n",
        "df_pricing = df_pricing.dropna(subset=[\"price\"])\n",
        "\n",
        "# Confirm data types\n",
        "print(df_pricing.dtypes)"
      ],
      "cell_type": "code",
      "metadata": {
        "colab": {
          "base_uri": "https://localhost:8080/"
        },
        "id": "cOneaatlBQDb",
        "outputId": "098246a6-e32c-4366-e02c-6d994fc7ed32"
      },
      "execution_count": 37,
      "outputs": [
        {
          "output_type": "stream",
          "name": "stdout",
          "text": [
            "avgRating                float64\n",
            "listingBathroomLabel      object\n",
            "bathrooms                float64\n",
            "listingBedLabel           object\n",
            "bedrooms                   int64\n",
            "beds                       int64\n",
            "businessHostLabel        float64\n",
            "city                      object\n",
            "listingGuestLabel         object\n",
            "id                         int64\n",
            "isAutoTranslated            bool\n",
            "isNewListing                bool\n",
            "isSuperhost                 bool\n",
            "relaxedFilterLabels      float64\n",
            "localizedCityName         object\n",
            "localizedDistanceText    float64\n",
            "locationTitle            float64\n",
            "locationContext          float64\n",
            "listingName               object\n",
            "listingObjType            object\n",
            "neighborhood             float64\n",
            "previewTags               object\n",
            "publicAddress             object\n",
            "reviewsCount               int64\n",
            "roomType                  object\n",
            "roomTypeCategory          object\n",
            "roomTypeId               float64\n",
            "spaceType                 object\n",
            "starRating               float64\n",
            "title                     object\n",
            "avgRatingLocalized        object\n",
            "accessibilityLabel        object\n",
            "price                    float64\n",
            "qualifier                 object\n",
            "adults                     int64\n",
            "children                   int64\n",
            "infants                    int64\n",
            "pets                       int64\n",
            "dtype: object\n"
          ]
        }
      ]
    },
    {
      "cell_type": "markdown",
      "source": [
        "# **Visualizing the Distribution of Airbnb Prices** ***"
      ],
      "metadata": {
        "id": "yQuswYWUcTbe"
      }
    },
    {
      "cell_type": "code",
      "source": [
        "import seaborn as sns\n",
        "import matplotlib.pyplot as plt\n",
        "\n",
        "# Set plot style\n",
        "sns.set_style(\"whitegrid\")\n",
        "\n",
        "# Plot distribution of prices\n",
        "plt.figure(figsize=(10, 5))\n",
        "sns.histplot(df_pricing[\"price\"], bins=50, kde=True)\n",
        "plt.title(\"Distribution of Airbnb Prices\")\n",
        "plt.xlabel(\"Price\")\n",
        "plt.ylabel(\"Count of Listings\")\n",
        "plt.show()\n"
      ],
      "metadata": {
        "colab": {
          "base_uri": "https://localhost:8080/",
          "height": 403
        },
        "id": "yvAA-3YqBRjy",
        "outputId": "b55f904e-c09d-418c-8925-86bf9abe5c9c"
      },
      "execution_count": 38,
      "outputs": [
        {
          "output_type": "display_data",
          "data": {
            "text/plain": [
              "<Figure size 1000x500 with 1 Axes>"
            ],
            "image/png": "[encoded data removed]"
          },
          "metadata": {}
        }
      ]
    },
    {
      "cell_type": "code",
      "source": [],
      "metadata": {
        "id": "0oyS-uN-cS2w"
      },
      "execution_count": null,
      "outputs": []
    },
    {
      "cell_type": "code",
      "source": [],
      "metadata": {
        "id": "PUaoMDtFB2ir"
      },
      "execution_count": null,
      "outputs": []
    },
    {
      "cell_type": "code",
      "source": [
        "import pandas as pd\n",
        "import numpy as np\n",
        "import seaborn as sns\n",
        "import matplotlib.pyplot as plt\n",
        "from sklearn.model_selection import train_test_split\n",
        "from sklearn.linear_model import LinearRegression\n",
        "from sklearn.metrics import mean_absolute_error, mean_squared_error\n",
        "\n",
        "# Load dataset\n",
        "df_pricing = pd.read_csv(\"/content/property_by_place.csv\")\n",
        "\n",
        "# Show first few rows\n",
        "print(df_pricing.head())\n",
        "\n",
        "# Check column names and missing values\n",
        "print(df_pricing.info())\n",
        "print(df_pricing.isnull().sum())\n"
      ],
      "metadata": {
        "colab": {
          "base_uri": "https://localhost:8080/"
        },
        "id": "0WkQwuNvDBu1",
        "outputId": "ee5532ca-113e-46f7-9d61-2c33facf1803"
      },
      "execution_count": 47,
      "outputs": [
        {
          "output_type": "stream",
          "name": "stdout",
          "text": [
            "   Unnamed: 0.1  Unnamed: 0  avgRating listingBathroomLabel  bathrooms  \\\n",
            "0             0           0       4.95               1 bath        1.0   \n",
            "1             1           1       4.84               1 bath        1.0   \n",
            "2             2           2       4.94               1 bath        1.0   \n",
            "3             3           3       4.95               1 bath        1.0   \n",
            "4             4           4        NaN               1 bath        1.0   \n",
            "\n",
            "  listingBedLabel  bedrooms  beds  businessHostLabel     city  ... starRating  \\\n",
            "0           1 bed         1     1                NaN  Calgary  ...        5.0   \n",
            "1          2 beds         0     2                NaN  Calgary  ...        5.0   \n",
            "2           1 bed         1     1                NaN  Calgary  ...        5.0   \n",
            "3           1 bed         1     1                NaN  Calgary  ...        5.0   \n",
            "4           1 bed         1     1                NaN  Calgary  ...        NaN   \n",
            "\n",
            "                              title  avgRatingLocalized  accessibilityLabel  \\\n",
            "0         Home in Northeast Calgary           4.95 (20)   $90 CAD per night   \n",
            "1    Apartment in Northeast Calgary          4.84 (268)   $62 CAD per night   \n",
            "2  Guest suite in Northeast Calgary           4.94 (69)   $90 CAD per night   \n",
            "3         Loft in Northeast Calgary           4.95 (20)  $150 CAD per night   \n",
            "4    Apartment in Southeast Calgary                 New   $63 CAD per night   \n",
            "\n",
            "      price  qualifier adults  children  infants  pets  \n",
            "0   $90 CAD      night      1         0        0     0  \n",
            "1   $62 CAD      night      1         0        0     0  \n",
            "2   $90 CAD      night      1         0        0     0  \n",
            "3  $150 CAD      night      1         0        0     0  \n",
            "4   $63 CAD      night      1         0        0     0  \n",
            "\n",
            "[5 rows x 40 columns]\n",
            "<class 'pandas.core.frame.DataFrame'>\n",
            "RangeIndex: 500 entries, 0 to 499\n",
            "Data columns (total 40 columns):\n",
            " #   Column                 Non-Null Count  Dtype  \n",
            "---  ------                 --------------  -----  \n",
            " 0   Unnamed: 0.1           500 non-null    int64  \n",
            " 1   Unnamed: 0             500 non-null    int64  \n",
            " 2   avgRating              423 non-null    float64\n",
            " 3   listingBathroomLabel   500 non-null    object \n",
            " 4   bathrooms              500 non-null    float64\n",
            " 5   listingBedLabel        496 non-null    object \n",
            " 6   bedrooms               500 non-null    int64  \n",
            " 7   beds                   500 non-null    int64  \n",
            " 8   businessHostLabel      0 non-null      float64\n",
            " 9   city                   500 non-null    object \n",
            " 10  listingGuestLabel      500 non-null    object \n",
            " 11  id                     500 non-null    int64  \n",
            " 12  isAutoTranslated       500 non-null    bool   \n",
            " 13  isNewListing           500 non-null    bool   \n",
            " 14  isSuperhost            500 non-null    bool   \n",
            " 15  relaxedFilterLabels    0 non-null      float64\n",
            " 16  localizedCityName      500 non-null    object \n",
            " 17  localizedDistanceText  0 non-null      float64\n",
            " 18  locationTitle          0 non-null      float64\n",
            " 19  locationContext        0 non-null      float64\n",
            " 20  listingName            500 non-null    object \n",
            " 21  listingObjType         500 non-null    object \n",
            " 22  neighborhood           0 non-null      float64\n",
            " 23  previewTags            500 non-null    object \n",
            " 24  publicAddress          500 non-null    object \n",
            " 25  reviewsCount           500 non-null    int64  \n",
            " 26  roomType               500 non-null    object \n",
            " 27  roomTypeCategory       500 non-null    object \n",
            " 28  roomTypeId             0 non-null      float64\n",
            " 29  spaceType              500 non-null    object \n",
            " 30  starRating             423 non-null    float64\n",
            " 31  title                  500 non-null    object \n",
            " 32  avgRatingLocalized     490 non-null    object \n",
            " 33  accessibilityLabel     500 non-null    object \n",
            " 34  price                  500 non-null    object \n",
            " 35  qualifier              500 non-null    object \n",
            " 36  adults                 500 non-null    int64  \n",
            " 37  children               500 non-null    int64  \n",
            " 38  infants                500 non-null    int64  \n",
            " 39  pets                   500 non-null    int64  \n",
            "dtypes: bool(3), float64(10), int64(10), object(17)\n",
            "memory usage: 146.1+ KB\n",
            "None\n",
            "Unnamed: 0.1               0\n",
            "Unnamed: 0                 0\n",
            "avgRating                 77\n",
            "listingBathroomLabel       0\n",
            "bathrooms                  0\n",
            "listingBedLabel            4\n",
            "bedrooms                   0\n",
            "beds                       0\n",
            "businessHostLabel        500\n",
            "city                       0\n",
            "listingGuestLabel          0\n",
            "id                         0\n",
            "isAutoTranslated           0\n",
            "isNewListing               0\n",
            "isSuperhost                0\n",
            "relaxedFilterLabels      500\n",
            "localizedCityName          0\n",
            "localizedDistanceText    500\n",
            "locationTitle            500\n",
            "locationContext          500\n",
            "listingName                0\n",
            "listingObjType             0\n",
            "neighborhood             500\n",
            "previewTags                0\n",
            "publicAddress              0\n",
            "reviewsCount               0\n",
            "roomType                   0\n",
            "roomTypeCategory           0\n",
            "roomTypeId               500\n",
            "spaceType                  0\n",
            "starRating                77\n",
            "title                      0\n",
            "avgRatingLocalized        10\n",
            "accessibilityLabel         0\n",
            "price                      0\n",
            "qualifier                  0\n",
            "adults                     0\n",
            "children                   0\n",
            "infants                    0\n",
            "pets                       0\n",
            "dtype: int64\n"
          ]
        }
      ]
    },
    {
      "cell_type": "code",
      "source": [
        "# Drop unnecessary columns\n",
        "df_pricing = df_pricing.drop(columns=['Unnamed: 0', 'Unnamed: 0.1'], errors='ignore')\n",
        "\n",
        "# Convert 'price' to numeric (remove \"$ CAD\" and convert to float)\n",
        "df_pricing[\"price\"] = df_pricing[\"price\"].replace('[\\$, CAD]', '', regex=True).astype(float)\n",
        "\n",
        "# Drop rows where 'price' is missing\n",
        "df_pricing = df_pricing.dropna(subset=['price'])\n",
        "\n",
        "# Fill missing values in important numeric columns with median\n",
        "df_pricing['avgRating'].fillna(df_pricing['avgRating'].median(), inplace=True)\n",
        "df_pricing['starRating'].fillna(df_pricing['starRating'].median(), inplace=True)\n",
        "\n",
        "# Fill missing categorical values with \"Unknown\"\n",
        "df_pricing['listingBedLabel'].fillna(\"Unknown\", inplace=True)\n",
        "\n",
        "# Show dataset info after cleaning\n",
        "print(df_pricing.info())\n",
        "\n",
        "# Show first few rows after cleaning\n",
        "print(df_pricing.head())\n"
      ],
      "metadata": {
        "colab": {
          "base_uri": "https://localhost:8080/"
        },
        "id": "goRaLuELDou4",
        "outputId": "9b2e138c-81d0-47b5-d536-7095e7b13bae"
      },
      "execution_count": 49,
      "outputs": [
        {
          "output_type": "stream",
          "name": "stdout",
          "text": [
            "<class 'pandas.core.frame.DataFrame'>\n",
            "RangeIndex: 500 entries, 0 to 499\n",
            "Data columns (total 38 columns):\n",
            " #   Column                 Non-Null Count  Dtype  \n",
            "---  ------                 --------------  -----  \n",
            " 0   avgRating              500 non-null    float64\n",
            " 1   listingBathroomLabel   500 non-null    object \n",
            " 2   bathrooms              500 non-null    float64\n",
            " 3   listingBedLabel        500 non-null    object \n",
            " 4   bedrooms               500 non-null    int64  \n",
            " 5   beds                   500 non-null    int64  \n",
            " 6   businessHostLabel      0 non-null      float64\n",
            " 7   city                   500 non-null    object \n",
            " 8   listingGuestLabel      500 non-null    object \n",
            " 9   id                     500 non-null    int64  \n",
            " 10  isAutoTranslated       500 non-null    bool   \n",
            " 11  isNewListing           500 non-null    bool   \n",
            " 12  isSuperhost            500 non-null    bool   \n",
            " 13  relaxedFilterLabels    0 non-null      float64\n",
            " 14  localizedCityName      500 non-null    object \n",
            " 15  localizedDistanceText  0 non-null      float64\n",
            " 16  locationTitle          0 non-null      float64\n",
            " 17  locationContext        0 non-null      float64\n",
            " 18  listingName            500 non-null    object \n",
            " 19  listingObjType         500 non-null    object \n",
            " 20  neighborhood           0 non-null      float64\n",
            " 21  previewTags            500 non-null    object \n",
            " 22  publicAddress          500 non-null    object \n",
            " 23  reviewsCount           500 non-null    int64  \n",
            " 24  roomType               500 non-null    object \n",
            " 25  roomTypeCategory       500 non-null    object \n",
            " 26  roomTypeId             0 non-null      float64\n",
            " 27  spaceType              500 non-null    object \n",
            " 28  starRating             500 non-null    float64\n",
            " 29  title                  500 non-null    object \n",
            " 30  avgRatingLocalized     490 non-null    object \n",
            " 31  accessibilityLabel     500 non-null    object \n",
            " 32  price                  500 non-null    float64\n",
            " 33  qualifier              500 non-null    object \n",
            " 34  adults                 500 non-null    int64  \n",
            " 35  children               500 non-null    int64  \n",
            " 36  infants                500 non-null    int64  \n",
            " 37  pets                   500 non-null    int64  \n",
            "dtypes: bool(3), float64(11), int64(8), object(16)\n",
            "memory usage: 138.3+ KB\n",
            "None\n",
            "   avgRating listingBathroomLabel  bathrooms listingBedLabel  bedrooms  beds  \\\n",
            "0       4.95               1 bath        1.0           1 bed         1     1   \n",
            "1       4.84               1 bath        1.0          2 beds         0     2   \n",
            "2       4.94               1 bath        1.0           1 bed         1     1   \n",
            "3       4.95               1 bath        1.0           1 bed         1     1   \n",
            "4       4.90               1 bath        1.0           1 bed         1     1   \n",
            "\n",
            "   businessHostLabel     city listingGuestLabel                   id  ...  \\\n",
            "0                NaN  Calgary          2 guests  1143371712266502884  ...   \n",
            "1                NaN  Calgary          3 guests             36314346  ...   \n",
            "2                NaN  Calgary          2 guests   671115779168748813  ...   \n",
            "3                NaN  Calgary          2 guests   742747938616966708  ...   \n",
            "4                NaN  Calgary          2 guests  1325634411764993748  ...   \n",
            "\n",
            "   starRating                             title  avgRatingLocalized  \\\n",
            "0         5.0         Home in Northeast Calgary           4.95 (20)   \n",
            "1         5.0    Apartment in Northeast Calgary          4.84 (268)   \n",
            "2         5.0  Guest suite in Northeast Calgary           4.94 (69)   \n",
            "3         5.0         Loft in Northeast Calgary           4.95 (20)   \n",
            "4         5.0    Apartment in Southeast Calgary                 New   \n",
            "\n",
            "   accessibilityLabel  price  qualifier  adults  children infants pets  \n",
            "0   $90 CAD per night   90.0      night       1         0       0    0  \n",
            "1   $62 CAD per night   62.0      night       1         0       0    0  \n",
            "2   $90 CAD per night   90.0      night       1         0       0    0  \n",
            "3  $150 CAD per night  150.0      night       1         0       0    0  \n",
            "4   $63 CAD per night   63.0      night       1         0       0    0  \n",
            "\n",
            "[5 rows x 38 columns]\n"
          ]
        }
      ]
    },
    {
      "cell_type": "code",
      "source": [
        "import matplotlib.pyplot as plt\n",
        "import seaborn as sns\n",
        "\n",
        "# Set plot style\n",
        "sns.set_style(\"whitegrid\")\n",
        "\n",
        "# Create histogram for price distribution\n",
        "plt.figure(figsize=(10,5))\n",
        "sns.histplot(df_pricing['price'], bins=40, kde=True, color='blue', alpha=0.6)\n",
        "\n",
        "# Add labels and title\n",
        "plt.xlabel(\"Price (CAD)\")\n",
        "plt.ylabel(\"Count of Listings\")\n",
        "plt.title(\"Distribution of Airbnb Prices\")\n",
        "\n",
        "# Show the plot\n",
        "plt.show()\n"
      ],
      "metadata": {
        "colab": {
          "base_uri": "https://localhost:8080/",
          "height": 403
        },
        "id": "MDf0mKvBDoyb",
        "outputId": "19206ec3-2c04-4b9d-9c7c-a9cc9d05e946"
      },
      "execution_count": 50,
      "outputs": [
        {
          "output_type": "display_data",
          "data": {
            "text/plain": [
              "<Figure size 1000x500 with 1 Axes>"
            ],
            "image/png": "[encoded data removed]"
          },
          "metadata": {}
        }
      ]
    },
    {
      "cell_type": "markdown",
      "source": [
        "# **Data Preprocessing and Train-Test Split**"
      ],
      "metadata": {
        "id": "OL6HBeJsc3er"
      }
    },
    {
      "cell_type": "code",
      "source": [
        "from sklearn.model_selection import train_test_split\n",
        "from sklearn.preprocessing import OneHotEncoder\n",
        "import pandas as pd\n",
        "\n",
        "# Select relevant features\n",
        "features = ['bedrooms', 'bathrooms', 'beds', 'roomType', 'city', 'reviewsCount', 'starRating']\n",
        "target = 'price'\n",
        "\n",
        "# Drop rows with missing values\n",
        "df_clean = df_pricing[features + [target]].dropna()\n",
        "\n",
        "# One-Hot Encoding for categorical variables\n",
        "df_encoded = pd.get_dummies(df_clean, columns=['roomType', 'city'], drop_first=True)\n",
        "\n",
        "# Define X (features) and y (target variable)\n",
        "X = df_encoded.drop(columns=[target])\n",
        "y = df_encoded[target]\n",
        "\n",
        "# Split into training and testing sets (80% train, 20% test)\n",
        "X_train, X_test, y_train, y_test = train_test_split(X, y, test_size=0.2, random_state=42)\n",
        "\n",
        "# Check the shape of the datasets\n",
        "X_train.shape, X_test.shape\n"
      ],
      "metadata": {
        "colab": {
          "base_uri": "https://localhost:8080/"
        },
        "id": "3Pf8mikTEE5c",
        "outputId": "41af960e-87bb-499f-f982-347831498407"
      },
      "execution_count": 51,
      "outputs": [
        {
          "output_type": "execute_result",
          "data": {
            "text/plain": [
              "((400, 8), (100, 8))"
            ]
          },
          "metadata": {},
          "execution_count": 51
        }
      ]
    },
    {
      "cell_type": "markdown",
      "source": [
        "\n",
        "\n",
        "# **Model Training and Evaluation: Linear Regression**"
      ],
      "metadata": {
        "id": "8FLobcFec_6Q"
      }
    },
    {
      "cell_type": "code",
      "source": [
        "from sklearn.linear_model import LinearRegression\n",
        "from sklearn.metrics import mean_absolute_error, r2_score\n",
        "\n",
        "# Initialize model\n",
        "model = LinearRegression()\n",
        "\n",
        "# Train the model\n",
        "model.fit(X_train, y_train)\n",
        "\n",
        "# Predictions on test set\n",
        "y_pred = model.predict(X_test)\n",
        "\n",
        "# Evaluate the model\n",
        "r2 = r2_score(y_test, y_pred)\n",
        "mae = mean_absolute_error(y_test, y_pred)\n",
        "\n",
        "r2, mae\n"
      ],
      "metadata": {
        "colab": {
          "base_uri": "https://localhost:8080/"
        },
        "id": "KawLtFyKEE9K",
        "outputId": "5f5b8454-bd6e-48cf-cd37-a5f93b705980"
      },
      "execution_count": 52,
      "outputs": [
        {
          "output_type": "execute_result",
          "data": {
            "text/plain": [
              "(0.4054545486750163, 24.069074517905673)"
            ]
          },
          "metadata": {},
          "execution_count": 52
        }
      ]
    },
    {
      "cell_type": "code",
      "source": [
        "import numpy as np\n",
        "\n",
        "# Define an outlier threshold (e.g., 99th percentile)\n",
        "threshold = np.percentile(y_train, 99)\n",
        "X_train_filtered = X_train[y_train < threshold]\n",
        "y_train_filtered = y_train[y_train < threshold]\n",
        "\n",
        "# Train model again with filtered data\n",
        "model_filtered = LinearRegression()\n",
        "model_filtered.fit(X_train_filtered, y_train_filtered)\n",
        "\n",
        "# Predictions on test set\n",
        "y_pred_filtered = model_filtered.predict(X_test)\n",
        "\n",
        "# Re-evaluate model\n",
        "r2_filtered = r2_score(y_test, y_pred_filtered)\n",
        "mae_filtered = mean_absolute_error(y_test, y_pred_filtered)\n",
        "\n",
        "r2_filtered, mae_filtered\n"
      ],
      "metadata": {
        "colab": {
          "base_uri": "https://localhost:8080/"
        },
        "id": "Pjt_AL1OEZf0",
        "outputId": "60512505-be14-497d-c888-f1303c23f7a0"
      },
      "execution_count": 53,
      "outputs": [
        {
          "output_type": "execute_result",
          "data": {
            "text/plain": [
              "(0.34965974601809857, 22.256762270149437)"
            ]
          },
          "metadata": {},
          "execution_count": 53
        }
      ]
    },
    {
      "cell_type": "markdown",
      "source": [
        " **Model Training and Evaluation: Random Forest Regressor**\n"
      ],
      "metadata": {
        "id": "Mw1lQriJdLh7"
      }
    },
    {
      "cell_type": "code",
      "source": [
        "from sklearn.ensemble import RandomForestRegressor\n",
        "\n",
        "# Train Random Forest model\n",
        "rf_model = RandomForestRegressor(n_estimators=100, random_state=42)\n",
        "rf_model.fit(X_train_filtered, y_train_filtered)\n",
        "\n",
        "# Predictions\n",
        "y_pred_rf = rf_model.predict(X_test)\n",
        "\n",
        "# Evaluate\n",
        "r2_rf = r2_score(y_test, y_pred_rf)\n",
        "mae_rf = mean_absolute_error(y_test, y_pred_rf)\n",
        "\n",
        "r2_rf, mae_rf\n"
      ],
      "metadata": {
        "colab": {
          "base_uri": "https://localhost:8080/"
        },
        "id": "-AmxmBPLEZog",
        "outputId": "434d4304-afa1-495e-a50a-2c6881f1c479"
      },
      "execution_count": 54,
      "outputs": [
        {
          "output_type": "execute_result",
          "data": {
            "text/plain": [
              "(0.4694002359629257, 17.370059895284456)"
            ]
          },
          "metadata": {},
          "execution_count": 54
        }
      ]
    },
    {
      "cell_type": "code",
      "source": [
        "from sklearn.model_selection import GridSearchCV\n",
        "\n",
        "# Define parameter grid\n",
        "param_grid = {\n",
        "    'n_estimators': [50, 100, 200],\n",
        "    'max_depth': [None, 10, 20],\n",
        "    'min_samples_split': [2, 5, 10]\n",
        "}\n",
        "\n",
        "# Grid Search\n",
        "grid_search = GridSearchCV(RandomForestRegressor(random_state=42), param_grid, cv=5, scoring='r2', n_jobs=-1)\n",
        "grid_search.fit(X_train_filtered, y_train_filtered)\n",
        "\n",
        "# Best model\n",
        "best_rf_model = grid_search.best_estimator_\n",
        "\n",
        "# Predictions\n",
        "y_pred_best_rf = best_rf_model.predict(X_test)\n",
        "\n",
        "# Evaluate\n",
        "r2_best_rf = r2_score(y_test, y_pred_best_rf)\n",
        "mae_best_rf = mean_absolute_error(y_test, y_pred_best_rf)\n",
        "\n",
        "r2_best_rf, mae_best_rf\n"
      ],
      "metadata": {
        "colab": {
          "base_uri": "https://localhost:8080/"
        },
        "id": "s8v7YxBUEZsV",
        "outputId": "612eb613-9dc4-4ff1-f751-0be3052b2c03"
      },
      "execution_count": 55,
      "outputs": [
        {
          "output_type": "execute_result",
          "data": {
            "text/plain": [
              "(0.4629157885312446, 18.31584062609685)"
            ]
          },
          "metadata": {},
          "execution_count": 55
        }
      ]
    },
    {
      "cell_type": "markdown",
      "source": [
        "\n",
        "\n",
        "# **Hyperparameter Tuning for Random Forest using Grid Search**\n"
      ],
      "metadata": {
        "id": "PnwiuX9ydYSm"
      }
    },
    {
      "cell_type": "code",
      "source": [
        "from sklearn.model_selection import GridSearchCV\n",
        "\n",
        "# Define parameter grid\n",
        "param_grid = {\n",
        "    'n_estimators': [50, 100, 200],\n",
        "    'max_depth': [None, 10, 20],\n",
        "    'min_samples_split': [2, 5, 10]\n",
        "}\n",
        "\n",
        "# Grid Search\n",
        "grid_search = GridSearchCV(RandomForestRegressor(random_state=42), param_grid, cv=5, scoring='r2', n_jobs=-1)\n",
        "grid_search.fit(X_train_filtered, y_train_filtered)\n",
        "\n",
        "# Best model\n",
        "best_rf_model = grid_search.best_estimator_\n",
        "\n",
        "# Predictions\n",
        "y_pred_best_rf = best_rf_model.predict(X_test)\n",
        "\n",
        "# Evaluate\n",
        "r2_best_rf = r2_score(y_test, y_pred_best_rf)\n",
        "mae_best_rf = mean_absolute_error(y_test, y_pred_best_rf)\n",
        "\n",
        "r2_best_rf, mae_best_rf\n"
      ],
      "metadata": {
        "colab": {
          "base_uri": "https://localhost:8080/"
        },
        "outputId": "612eb613-9dc4-4ff1-f751-0be3052b2c03",
        "id": "gpTQiGppdRPm"
      },
      "execution_count": null,
      "outputs": [
        {
          "output_type": "execute_result",
          "data": {
            "text/plain": [
              "(0.4629157885312446, 18.31584062609685)"
            ]
          },
          "metadata": {},
          "execution_count": 55
        }
      ]
    },
    {
      "cell_type": "markdown",
      "source": [
        "\n",
        "\n",
        "# **Model Training and Evaluation: XGBoost Regressor**\n"
      ],
      "metadata": {
        "id": "2G07uohudhrn"
      }
    },
    {
      "cell_type": "code",
      "source": [
        "from xgboost import XGBRegressor\n",
        "\n",
        "# Train XGBoost model\n",
        "xgb_model = XGBRegressor(n_estimators=100, learning_rate=0.1, max_depth=5, random_state=42)\n",
        "xgb_model.fit(X_train_filtered, y_train_filtered)\n",
        "\n",
        "# Predictions\n",
        "y_pred_xgb = xgb_model.predict(X_test)\n",
        "\n",
        "# Evaluate\n",
        "r2_xgb = r2_score(y_test, y_pred_xgb)\n",
        "mae_xgb = mean_absolute_error(y_test, y_pred_xgb)\n",
        "\n",
        "r2_xgb, mae_xgb\n",
        "\n"
      ],
      "metadata": {
        "colab": {
          "base_uri": "https://localhost:8080/"
        },
        "id": "yLCD4v7zFEr7",
        "outputId": "fa4cc1c9-444e-4f4a-f2b6-2fbb756a43bd"
      },
      "execution_count": 56,
      "outputs": [
        {
          "output_type": "execute_result",
          "data": {
            "text/plain": [
              "(0.5248653442593687, 17.48822166442871)"
            ]
          },
          "metadata": {},
          "execution_count": 56
        }
      ]
    },
    {
      "cell_type": "code",
      "source": [
        "xgb_tuned = XGBRegressor(n_estimators=300, learning_rate=0.05, max_depth=6, subsample=0.8, colsample_bytree=0.8, random_state=42)\n",
        "xgb_tuned.fit(X_train_filtered, y_train_filtered)\n",
        "\n",
        "# Predictions\n",
        "y_pred_xgb_tuned = xgb_tuned.predict(X_test)\n",
        "\n",
        "# Evaluate\n",
        "r2_xgb_tuned = r2_score(y_test, y_pred_xgb_tuned)\n",
        "mae_xgb_tuned = mean_absolute_error(y_test, y_pred_xgb_tuned)\n",
        "\n",
        "r2_xgb_tuned, mae_xgb_tuned\n"
      ],
      "metadata": {
        "colab": {
          "base_uri": "https://localhost:8080/"
        },
        "id": "0IMU4ua3FQw6",
        "outputId": "a6c29aff-f627-4c07-d543-81f723c225e6"
      },
      "execution_count": 57,
      "outputs": [
        {
          "output_type": "execute_result",
          "data": {
            "text/plain": [
              "(0.5041176550465221, 16.54019546508789)"
            ]
          },
          "metadata": {},
          "execution_count": 57
        }
      ]
    },
    {
      "cell_type": "markdown",
      "source": [
        "# **Hyperparameter Tuning for XGBoost using Grid Search**\n"
      ],
      "metadata": {
        "id": "VkRmS_I2drBx"
      }
    },
    {
      "cell_type": "code",
      "source": [
        "from sklearn.model_selection import GridSearchCV\n",
        "\n",
        "params = {\n",
        "    'n_estimators': [100, 300, 500],\n",
        "    'learning_rate': [0.01, 0.05, 0.1],\n",
        "    'max_depth': [4, 6, 8],\n",
        "    'subsample': [0.7, 0.8, 0.9],\n",
        "    'colsample_bytree': [0.7, 0.8, 0.9]\n",
        "}\n",
        "\n",
        "xgb_grid = GridSearchCV(XGBRegressor(random_state=42), params, cv=5, scoring='r2', n_jobs=-1)\n",
        "xgb_grid.fit(X_train_filtered, y_train_filtered)\n",
        "\n",
        "print(\"Best Parameters:\", xgb_grid.best_params_)\n",
        "print(\"Best R² Score:\", xgb_grid.best_score_)\n"
      ],
      "metadata": {
        "colab": {
          "base_uri": "https://localhost:8080/"
        },
        "id": "3D8p92gvFdPk",
        "outputId": "4c67913e-9539-40d6-ebab-209a33a0bd1d"
      },
      "execution_count": 58,
      "outputs": [
        {
          "output_type": "stream",
          "name": "stdout",
          "text": [
            "Best Parameters: {'colsample_bytree': 0.8, 'learning_rate': 0.1, 'max_depth': 6, 'n_estimators': 100, 'subsample': 0.7}\n",
            "Best R² Score: 0.6810870141210665\n"
          ]
        }
      ]
    },
    {
      "cell_type": "code",
      "source": [
        "# Check available variables\n",
        "print(\"Available variables:\", dir())\n",
        "\n",
        "# If X_train and X_test exist but _filtered versions don't, create them\n",
        "if 'X_train' in locals() and 'X_test' in locals():\n",
        "    X_train_filtered = X_train.copy()\n",
        "    X_test_filtered = X_test.copy()\n",
        "    y_train_filtered = y_train.copy()\n",
        "    y_test_filtered = y_test.copy()\n",
        "else:\n",
        "    print(\"⚠️ X_train and X_test are missing. Run data preprocessing again.\")\n"
      ],
      "metadata": {
        "colab": {
          "base_uri": "https://localhost:8080/"
        },
        "id": "VZo7bI5OGkbb",
        "outputId": "00b9b464-a2ff-4940-bff2-d018699bf500"
      },
      "execution_count": 60,
      "outputs": [
        {
          "output_type": "stream",
          "name": "stdout",
          "text": [
            "Available variables: ['GridSearchCV', 'In', 'LinearRegression', 'OneHotEncoder', 'Out', 'RandomForestRegressor', 'X', 'XGBRegressor', 'X_test', 'X_train', 'X_train_filtered', '_', '_11', '_13', '_51', '_52', '_53', '_54', '_55', '_56', '_57', '_7', '__', '___', '__builtin__', '__builtins__', '__doc__', '__loader__', '__name__', '__package__', '__spec__', '_dh', '_exit_code', '_i', '_i1', '_i10', '_i11', '_i12', '_i13', '_i14', '_i15', '_i16', '_i17', '_i18', '_i19', '_i2', '_i20', '_i21', '_i22', '_i23', '_i24', '_i25', '_i26', '_i27', '_i28', '_i29', '_i3', '_i30', '_i31', '_i32', '_i33', '_i34', '_i35', '_i36', '_i37', '_i38', '_i39', '_i4', '_i40', '_i41', '_i42', '_i43', '_i44', '_i45', '_i46', '_i47', '_i48', '_i49', '_i5', '_i50', '_i51', '_i52', '_i53', '_i54', '_i55', '_i56', '_i57', '_i58', '_i59', '_i6', '_i60', '_i7', '_i8', '_i9', '_ih', '_ii', '_iii', '_oh', 'best_rf_model', 'col', 'correlation', 'df_clean', 'df_encoded', 'df_listings', 'df_pricing', 'df_pricing_clean', 'df_reviews', 'exit', 'features', 'final_xgb', 'get_ipython', 'grid_search', 'mae', 'mae_best_rf', 'mae_filtered', 'mae_rf', 'mae_xgb', 'mae_xgb_tuned', 'mean_absolute_error', 'mean_squared_error', 'model', 'model_filtered', 'np', 'param_grid', 'params', 'pd', 'plt', 'quit', 'r2', 'r2_best_rf', 'r2_filtered', 'r2_rf', 'r2_score', 'r2_xgb', 'r2_xgb_tuned', 'rf_model', 'sns', 'superhost_comparison', 'target', 'threshold', 'top_price_listings', 'train_test_split', 'xgb_grid', 'xgb_model', 'xgb_tuned', 'y', 'y_pred', 'y_pred_best_rf', 'y_pred_filtered', 'y_pred_rf', 'y_pred_xgb', 'y_pred_xgb_tuned', 'y_test', 'y_train', 'y_train_filtered']\n"
          ]
        }
      ]
    },
    {
      "cell_type": "code",
      "source": [
        "# Ensure X and y have no missing values\n",
        "X_train_filtered = X_train.dropna()\n",
        "X_test_filtered = X_test.dropna()\n",
        "y_train_filtered = y_train.loc[X_train_filtered.index]\n",
        "y_test_filtered = y_test.loc[X_test_filtered.index]\n"
      ],
      "metadata": {
        "id": "rmvIJVIiGkey"
      },
      "execution_count": 61,
      "outputs": []
    },
    {
      "cell_type": "markdown",
      "source": [
        "\n",
        "\n",
        "# **Training and Evaluating the Final XGBoost Model**\n"
      ],
      "metadata": {
        "id": "vO-cuIXHdzLw"
      }
    },
    {
      "cell_type": "code",
      "source": [
        "# Train final model\n",
        "final_xgb = XGBRegressor(\n",
        "    colsample_bytree=0.8, learning_rate=0.1, max_depth=6,\n",
        "    n_estimators=100, subsample=0.7, random_state=42\n",
        ")\n",
        "final_xgb.fit(X_train_filtered, y_train_filtered)\n",
        "\n",
        "# Make predictions\n",
        "y_pred_final = final_xgb.predict(X_test_filtered)\n",
        "\n",
        "# Evaluate performance\n",
        "final_r2 = r2_score(y_test_filtered, y_pred_final)\n",
        "final_mae = mean_absolute_error(y_test_filtered, y_pred_final)\n",
        "\n",
        "print(f\"🎯 Final R² Score: {final_r2:.3f}\")\n",
        "print(f\"📉 Final MAE: ${final_mae:.2f}\")\n"
      ],
      "metadata": {
        "colab": {
          "base_uri": "https://localhost:8080/"
        },
        "id": "cMgvtbX_GqkT",
        "outputId": "7c9ead13-4db6-41c0-a76a-e3bee216d92d"
      },
      "execution_count": 62,
      "outputs": [
        {
          "output_type": "stream",
          "name": "stdout",
          "text": [
            "🎯 Final R² Score: 0.855\n",
            "📉 Final MAE: $13.81\n"
          ]
        }
      ]
    },
    {
      "cell_type": "markdown",
      "source": [
        "# **Saving the Trained Model**"
      ],
      "metadata": {
        "id": "lcQH9NhDd_7s"
      }
    },
    {
      "cell_type": "code",
      "source": [
        "import joblib\n",
        "\n",
        "# Save model\n",
        "joblib.dump(final_xgb, \"airbnb_price_model.pkl\")\n",
        "\n",
        "print(\"✅ Model saved as 'airbnb_price_model.pkl'\")\n"
      ],
      "metadata": {
        "colab": {
          "base_uri": "https://localhost:8080/"
        },
        "id": "xDdI5GJQG2J8",
        "outputId": "5d2de446-ff65-4380-ab69-b6d97f8f615b"
      },
      "execution_count": 63,
      "outputs": [
        {
          "output_type": "stream",
          "name": "stdout",
          "text": [
            "✅ Model saved as 'airbnb_price_model.pkl'\n"
          ]
        }
      ]
    },
    {
      "cell_type": "code",
      "source": [
        "print(f\"Number of Features Used in Training: {X_train_filtered.shape[1]}\")\n",
        "print(f\"Feature Names: {X_train_filtered.columns.tolist()}\")\n"
      ],
      "metadata": {
        "colab": {
          "base_uri": "https://localhost:8080/"
        },
        "id": "rJ4usZwLG8yF",
        "outputId": "8120b244-6cba-422e-eee0-a9697d925efc"
      },
      "execution_count": 65,
      "outputs": [
        {
          "output_type": "stream",
          "name": "stdout",
          "text": [
            "Number of Features Used in Training: 8\n",
            "Feature Names: ['bedrooms', 'bathrooms', 'beds', 'reviewsCount', 'starRating', 'roomType_Private room', 'roomType_Shared room', 'city_Chestermere']\n"
          ]
        }
      ]
    },
    {
      "cell_type": "code",
      "source": [
        "new_listing = [[2, 1, 2, 0, 0, 10, 4.8, 1]]  # Added 8th value\n"
      ],
      "metadata": {
        "id": "HMk9feUEHN8N"
      },
      "execution_count": 66,
      "outputs": []
    },
    {
      "cell_type": "code",
      "source": [
        "# Ensure new listing has correct feature count\n",
        "new_listing = np.array(new_listing).reshape(1, -1)  # Reshape for model input\n",
        "\n",
        "# Predict price\n",
        "predicted_price = loaded_model.predict(new_listing)\n",
        "\n",
        "print(f\"💰 Predicted Price: ${predicted_price[0]:.2f}\")\n"
      ],
      "metadata": {
        "colab": {
          "base_uri": "https://localhost:8080/"
        },
        "id": "7V-227_PHOKA",
        "outputId": "61021b5d-1fd8-401b-f40c-09a95bae70f2"
      },
      "execution_count": 67,
      "outputs": [
        {
          "output_type": "stream",
          "name": "stdout",
          "text": [
            "💰 Predicted Price: $40.34\n"
          ]
        }
      ]
    },
    {
      "cell_type": "code",
      "source": [
        "# Example: Listing with 3 bedrooms, 2 bathrooms, 3 beds, etc.\n",
        "new_listing_2 = [[3, 2, 3, 1, 0, 15, 4.9, 0]]\n",
        "new_listing_2 = np.array(new_listing_2).reshape(1, -1)\n",
        "\n",
        "predicted_price_2 = loaded_model.predict(new_listing_2)\n",
        "print(f\"💰 Predicted Price for Listing 2: ${predicted_price_2[0]:.2f}\")\n"
      ],
      "metadata": {
        "colab": {
          "base_uri": "https://localhost:8080/"
        },
        "id": "3FPzd1byHr0O",
        "outputId": "dc9ec2cf-0b7b-476d-c495-be67b2135e37"
      },
      "execution_count": 68,
      "outputs": [
        {
          "output_type": "stream",
          "name": "stdout",
          "text": [
            "💰 Predicted Price for Listing 2: $95.35\n"
          ]
        }
      ]
    },
    {
      "cell_type": "code",
      "source": [
        "import joblib\n",
        "\n",
        "# Save the trained model\n",
        "joblib.dump(final_xgb, \"airbnb_price_model.pkl\")\n",
        "\n",
        "print(\"✅ Model saved as 'airbnb_price_model.pkl'\")\n"
      ],
      "metadata": {
        "colab": {
          "base_uri": "https://localhost:8080/"
        },
        "id": "HfmCPBuEH5Zv",
        "outputId": "f9afc228-a941-443e-8a52-4d5829d399b2"
      },
      "execution_count": 69,
      "outputs": [
        {
          "output_type": "stream",
          "name": "stdout",
          "text": [
            "✅ Model saved as 'airbnb_price_model.pkl'\n"
          ]
        }
      ]
    },
    {
      "cell_type": "markdown",
      "source": [
        "**DEPLOYMENT**"
      ],
      "metadata": {
        "id": "S-xWE6HxeL4v"
      }
    },
    {
      "cell_type": "code",
      "source": [
        "!pip install streamlit"
      ],
      "metadata": {
        "colab": {
          "base_uri": "https://localhost:8080/"
        },
        "id": "c0mLMJccIGyg",
        "outputId": "86f60998-0989-4a2c-f6fd-831572a8badb"
      },
      "execution_count": 71,
      "outputs": [
        {
          "output_type": "stream",
          "name": "stdout",
          "text": [
            "Collecting streamlit\n",
            "  Downloading streamlit-1.42.1-py2.py3-none-any.whl.metadata (8.9 kB)\n",
            "Requirement already satisfied: altair<6,>=4.0 in /usr/local/lib/python3.11/dist-packages (from streamlit) (5.5.0)\n",
            "Requirement already satisfied: blinker<2,>=1.0.0 in /usr/local/lib/python3.11/dist-packages (from streamlit) (1.9.0)\n",
            "Requirement already satisfied: cachetools<6,>=4.0 in /usr/local/lib/python3.11/dist-packages (from streamlit) (5.5.1)\n",
            "Requirement already satisfied: click<9,>=7.0 in /usr/local/lib/python3.11/dist-packages (from streamlit) (8.1.8)\n",
            "Requirement already satisfied: numpy<3,>=1.23 in /usr/local/lib/python3.11/dist-packages (from streamlit) (1.24.3)\n",
            "Requirement already satisfied: packaging<25,>=20 in /usr/local/lib/python3.11/dist-packages (from streamlit) (24.2)\n",
            "Requirement already satisfied: pandas<3,>=1.4.0 in /usr/local/lib/python3.11/dist-packages (from streamlit) (1.5.3)\n",
            "Requirement already satisfied: pillow<12,>=7.1.0 in /usr/local/lib/python3.11/dist-packages (from streamlit) (11.1.0)\n",
            "Requirement already satisfied: protobuf<6,>=3.20 in /usr/local/lib/python3.11/dist-packages (from streamlit) (4.25.6)\n",
            "Requirement already satisfied: pyarrow>=7.0 in /usr/local/lib/python3.11/dist-packages (from streamlit) (17.0.0)\n",
            "Requirement already satisfied: requests<3,>=2.27 in /usr/local/lib/python3.11/dist-packages (from streamlit) (2.32.3)\n",
            "Requirement already satisfied: rich<14,>=10.14.0 in /usr/local/lib/python3.11/dist-packages (from streamlit) (13.9.4)\n",
            "Requirement already satisfied: tenacity<10,>=8.1.0 in /usr/local/lib/python3.11/dist-packages (from streamlit) (9.0.0)\n",
            "Requirement already satisfied: toml<2,>=0.10.1 in /usr/local/lib/python3.11/dist-packages (from streamlit) (0.10.2)\n",
            "Requirement already satisfied: typing-extensions<5,>=4.4.0 in /usr/local/lib/python3.11/dist-packages (from streamlit) (4.12.2)\n",
            "Collecting watchdog<7,>=2.1.5 (from streamlit)\n",
            "  Downloading watchdog-6.0.0-py3-none-manylinux2014_x86_64.whl.metadata (44 kB)\n",
            "\u001b[2K     \u001b[90m━━━━━━━━━━━━━━━━━━━━━━━━━━━━━━━━━━━━━━━━\u001b[0m \u001b[32m44.3/44.3 kB\u001b[0m \u001b[31m1.7 MB/s\u001b[0m eta \u001b[36m0:00:00\u001b[0m\n",
            "\u001b[?25hRequirement already satisfied: gitpython!=3.1.19,<4,>=3.0.7 in /usr/local/lib/python3.11/dist-packages (from streamlit) (3.1.44)\n",
            "Collecting pydeck<1,>=0.8.0b4 (from streamlit)\n",
            "  Downloading pydeck-0.9.1-py2.py3-none-any.whl.metadata (4.1 kB)\n",
            "Requirement already satisfied: tornado<7,>=6.0.3 in /usr/local/lib/python3.11/dist-packages (from streamlit) (6.4.2)\n",
            "Requirement already satisfied: jinja2 in /usr/local/lib/python3.11/dist-packages (from altair<6,>=4.0->streamlit) (3.1.5)\n",
            "Requirement already satisfied: jsonschema>=3.0 in /usr/local/lib/python3.11/dist-packages (from altair<6,>=4.0->streamlit) (4.23.0)\n",
            "Requirement already satisfied: narwhals>=1.14.2 in /usr/local/lib/python3.11/dist-packages (from altair<6,>=4.0->streamlit) (1.26.0)\n",
            "Requirement already satisfied: gitdb<5,>=4.0.1 in /usr/local/lib/python3.11/dist-packages (from gitpython!=3.1.19,<4,>=3.0.7->streamlit) (4.0.12)\n",
            "Requirement already satisfied: python-dateutil>=2.8.1 in /usr/local/lib/python3.11/dist-packages (from pandas<3,>=1.4.0->streamlit) (2.8.2)\n",
            "Requirement already satisfied: pytz>=2020.1 in /usr/local/lib/python3.11/dist-packages (from pandas<3,>=1.4.0->streamlit) (2025.1)\n",
            "Requirement already satisfied: charset-normalizer<4,>=2 in /usr/local/lib/python3.11/dist-packages (from requests<3,>=2.27->streamlit) (3.4.1)\n",
            "Requirement already satisfied: idna<4,>=2.5 in /usr/local/lib/python3.11/dist-packages (from requests<3,>=2.27->streamlit) (3.10)\n",
            "Requirement already satisfied: urllib3<3,>=1.21.1 in /usr/local/lib/python3.11/dist-packages (from requests<3,>=2.27->streamlit) (2.3.0)\n",
            "Requirement already satisfied: certifi>=2017.4.17 in /usr/local/lib/python3.11/dist-packages (from requests<3,>=2.27->streamlit) (2025.1.31)\n",
            "Requirement already satisfied: markdown-it-py>=2.2.0 in /usr/local/lib/python3.11/dist-packages (from rich<14,>=10.14.0->streamlit) (3.0.0)\n",
            "Requirement already satisfied: pygments<3.0.0,>=2.13.0 in /usr/local/lib/python3.11/dist-packages (from rich<14,>=10.14.0->streamlit) (2.18.0)\n",
            "Requirement already satisfied: smmap<6,>=3.0.1 in /usr/local/lib/python3.11/dist-packages (from gitdb<5,>=4.0.1->gitpython!=3.1.19,<4,>=3.0.7->streamlit) (5.0.2)\n",
            "Requirement already satisfied: MarkupSafe>=2.0 in /usr/local/lib/python3.11/dist-packages (from jinja2->altair<6,>=4.0->streamlit) (3.0.2)\n",
            "Requirement already satisfied: attrs>=22.2.0 in /usr/local/lib/python3.11/dist-packages (from jsonschema>=3.0->altair<6,>=4.0->streamlit) (25.1.0)\n",
            "Requirement already satisfied: jsonschema-specifications>=2023.03.6 in /usr/local/lib/python3.11/dist-packages (from jsonschema>=3.0->altair<6,>=4.0->streamlit) (2024.10.1)\n",
            "Requirement already satisfied: referencing>=0.28.4 in /usr/local/lib/python3.11/dist-packages (from jsonschema>=3.0->altair<6,>=4.0->streamlit) (0.36.2)\n",
            "Requirement already satisfied: rpds-py>=0.7.1 in /usr/local/lib/python3.11/dist-packages (from jsonschema>=3.0->altair<6,>=4.0->streamlit) (0.22.3)\n",
            "Requirement already satisfied: mdurl~=0.1 in /usr/local/lib/python3.11/dist-packages (from markdown-it-py>=2.2.0->rich<14,>=10.14.0->streamlit) (0.1.2)\n",
            "Requirement already satisfied: six>=1.5 in /usr/local/lib/python3.11/dist-packages (from python-dateutil>=2.8.1->pandas<3,>=1.4.0->streamlit) (1.17.0)\n",
            "Downloading streamlit-1.42.1-py2.py3-none-any.whl (9.6 MB)\n",
            "\u001b[2K   \u001b[90m━━━━━━━━━━━━━━━━━━━━━━━━━━━━━━━━━━━━━━━━\u001b[0m \u001b[32m9.6/9.6 MB\u001b[0m \u001b[31m58.0 MB/s\u001b[0m eta \u001b[36m0:00:00\u001b[0m\n",
            "\u001b[?25hDownloading pydeck-0.9.1-py2.py3-none-any.whl (6.9 MB)\n",
            "\u001b[2K   \u001b[90m━━━━━━━━━━━━━━━━━━━━━━━━━━━━━━━━━━━━━━━━\u001b[0m \u001b[32m6.9/6.9 MB\u001b[0m \u001b[31m56.3 MB/s\u001b[0m eta \u001b[36m0:00:00\u001b[0m\n",
            "\u001b[?25hDownloading watchdog-6.0.0-py3-none-manylinux2014_x86_64.whl (79 kB)\n",
            "\u001b[2K   \u001b[90m━━━━━━━━━━━━━━━━━━━━━━━━━━━━━━━━━━━━━━━━\u001b[0m \u001b[32m79.1/79.1 kB\u001b[0m \u001b[31m6.5 MB/s\u001b[0m eta \u001b[36m0:00:00\u001b[0m\n",
            "\u001b[?25hInstalling collected packages: watchdog, pydeck, streamlit\n",
            "Successfully installed pydeck-0.9.1 streamlit-1.42.1 watchdog-6.0.0\n"
          ]
        }
      ]
    },
    {
      "cell_type": "markdown",
      "source": [
        "# **Building a Streamlit App for Price Prediction**"
      ],
      "metadata": {
        "id": "Bnk-SyrFeWAw"
      }
    },
    {
      "cell_type": "code",
      "source": [
        "import streamlit as st\n",
        "import joblib\n",
        "import numpy as np\n",
        "\n",
        "# Load the trained model\n",
        "model = joblib.load(\"airbnb_price_model.pkl\")\n",
        "\n",
        "# Streamlit App\n",
        "st.title(\"🏡 Airbnb Price Prediction App\")\n",
        "\n",
        "st.write(\"Enter the details of the listing to predict its price:\")\n",
        "\n",
        "# User Input Fields\n",
        "bedrooms = st.number_input(\"Number of Bedrooms\", min_value=0, step=1)\n",
        "bathrooms = st.number_input(\"Number of Bathrooms\", min_value=0, step=1)\n",
        "beds = st.number_input(\"Number of Beds\", min_value=0, step=1)\n",
        "room_type = st.selectbox(\"Room Type\", [\"Entire home/apt\", \"Private room\", \"Shared room\"])\n",
        "city = st.selectbox(\"City\", [\"Calgary\", \"Toronto\", \"Vancouver\"])\n",
        "reviews_count = st.number_input(\"Number of Reviews\", min_value=0, step=1)\n",
        "star_rating = st.slider(\"Star Rating\", 0.0, 5.0, 4.5)\n",
        "\n",
        "# Convert Categorical Data\n",
        "room_type_encoded = 1 if room_type == \"Entire home/apt\" else 0\n",
        "city_encoded = 1 if city == \"Calgary\" else 0  # Adjust based on your dataset\n",
        "\n",
        "# Prepare input data\n",
        "input_data = np.array([[bedrooms, bathrooms, beds, room_type_encoded, city_encoded, reviews_count, star_rating, 0]])\n",
        "\n",
        "# Predict Button\n",
        "if st.button(\"Predict Price\"):\n",
        "    predicted_price = model.predict(input_data)\n",
        "    st.success(f\"💰 Estimated Price: ${predicted_price[0]:.2f} per night\")\n"
      ],
      "metadata": {
        "colab": {
          "base_uri": "https://localhost:8080/"
        },
        "id": "7YD1rF49H-cj",
        "outputId": "0f3dba4f-d81e-406c-a4df-d7fe2bcd0ef1"
      },
      "execution_count": 72,
      "outputs": [
        {
          "output_type": "stream",
          "name": "stderr",
          "text": [
            "2025-02-20 16:11:45.647 WARNING streamlit.runtime.scriptrunner_utils.script_run_context: Thread 'MainThread': missing ScriptRunContext! This warning can be ignored when running in bare mode.\n",
            "2025-02-20 16:11:45.976 \n",
            "  \u001b[33m\u001b[1mWarning:\u001b[0m to view this Streamlit app on a browser, run it with the following\n",
            "  command:\n",
            "\n",
            "    streamlit run /usr/local/lib/python3.11/dist-packages/colab_kernel_launcher.py [ARGUMENTS]\n",
            "2025-02-20 16:11:45.980 Thread 'MainThread': missing ScriptRunContext! This warning can be ignored when running in bare mode.\n",
            "2025-02-20 16:11:45.984 Thread 'MainThread': missing ScriptRunContext! This warning can be ignored when running in bare mode.\n",
            "2025-02-20 16:11:45.994 Thread 'MainThread': missing ScriptRunContext! This warning can be ignored when running in bare mode.\n",
            "2025-02-20 16:11:45.997 Thread 'MainThread': missing ScriptRunContext! This warning can be ignored when running in bare mode.\n",
            "2025-02-20 16:11:46.000 Thread 'MainThread': missing ScriptRunContext! This warning can be ignored when running in bare mode.\n",
            "2025-02-20 16:11:46.003 Thread 'MainThread': missing ScriptRunContext! This warning can be ignored when running in bare mode.\n",
            "2025-02-20 16:11:46.006 Thread 'MainThread': missing ScriptRunContext! This warning can be ignored when running in bare mode.\n",
            "2025-02-20 16:11:46.009 Thread 'MainThread': missing ScriptRunContext! This warning can be ignored when running in bare mode.\n",
            "2025-02-20 16:11:46.011 Thread 'MainThread': missing ScriptRunContext! This warning can be ignored when running in bare mode.\n",
            "2025-02-20 16:11:46.019 Session state does not function when running a script without `streamlit run`\n",
            "2025-02-20 16:11:46.022 Thread 'MainThread': missing ScriptRunContext! This warning can be ignored when running in bare mode.\n",
            "2025-02-20 16:11:46.024 Thread 'MainThread': missing ScriptRunContext! This warning can be ignored when running in bare mode.\n",
            "2025-02-20 16:11:46.027 Thread 'MainThread': missing ScriptRunContext! This warning can be ignored when running in bare mode.\n",
            "2025-02-20 16:11:46.029 Thread 'MainThread': missing ScriptRunContext! This warning can be ignored when running in bare mode.\n",
            "2025-02-20 16:11:46.031 Thread 'MainThread': missing ScriptRunContext! This warning can be ignored when running in bare mode.\n",
            "2025-02-20 16:11:46.034 Thread 'MainThread': missing ScriptRunContext! This warning can be ignored when running in bare mode.\n",
            "2025-02-20 16:11:46.037 Thread 'MainThread': missing ScriptRunContext! This warning can be ignored when running in bare mode.\n",
            "2025-02-20 16:11:46.039 Thread 'MainThread': missing ScriptRunContext! This warning can be ignored when running in bare mode.\n",
            "2025-02-20 16:11:46.041 Thread 'MainThread': missing ScriptRunContext! This warning can be ignored when running in bare mode.\n",
            "2025-02-20 16:11:46.044 Thread 'MainThread': missing ScriptRunContext! This warning can be ignored when running in bare mode.\n",
            "2025-02-20 16:11:46.046 Thread 'MainThread': missing ScriptRunContext! This warning can be ignored when running in bare mode.\n",
            "2025-02-20 16:11:46.048 Thread 'MainThread': missing ScriptRunContext! This warning can be ignored when running in bare mode.\n",
            "2025-02-20 16:11:46.051 Thread 'MainThread': missing ScriptRunContext! This warning can be ignored when running in bare mode.\n",
            "2025-02-20 16:11:46.053 Thread 'MainThread': missing ScriptRunContext! This warning can be ignored when running in bare mode.\n",
            "2025-02-20 16:11:46.055 Thread 'MainThread': missing ScriptRunContext! This warning can be ignored when running in bare mode.\n",
            "2025-02-20 16:11:46.057 Thread 'MainThread': missing ScriptRunContext! This warning can be ignored when running in bare mode.\n",
            "2025-02-20 16:11:46.060 Thread 'MainThread': missing ScriptRunContext! This warning can be ignored when running in bare mode.\n",
            "2025-02-20 16:11:46.062 Thread 'MainThread': missing ScriptRunContext! This warning can be ignored when running in bare mode.\n",
            "2025-02-20 16:11:46.067 Thread 'MainThread': missing ScriptRunContext! This warning can be ignored when running in bare mode.\n",
            "2025-02-20 16:11:46.070 Thread 'MainThread': missing ScriptRunContext! This warning can be ignored when running in bare mode.\n",
            "2025-02-20 16:11:46.072 Thread 'MainThread': missing ScriptRunContext! This warning can be ignored when running in bare mode.\n",
            "2025-02-20 16:11:46.075 Thread 'MainThread': missing ScriptRunContext! This warning can be ignored when running in bare mode.\n",
            "2025-02-20 16:11:46.077 Thread 'MainThread': missing ScriptRunContext! This warning can be ignored when running in bare mode.\n",
            "2025-02-20 16:11:46.079 Thread 'MainThread': missing ScriptRunContext! This warning can be ignored when running in bare mode.\n",
            "2025-02-20 16:11:46.081 Thread 'MainThread': missing ScriptRunContext! This warning can be ignored when running in bare mode.\n",
            "2025-02-20 16:11:46.083 Thread 'MainThread': missing ScriptRunContext! This warning can be ignored when running in bare mode.\n",
            "2025-02-20 16:11:46.085 Thread 'MainThread': missing ScriptRunContext! This warning can be ignored when running in bare mode.\n",
            "2025-02-20 16:11:46.087 Thread 'MainThread': missing ScriptRunContext! This warning can be ignored when running in bare mode.\n",
            "2025-02-20 16:11:46.089 Thread 'MainThread': missing ScriptRunContext! This warning can be ignored when running in bare mode.\n",
            "2025-02-20 16:11:46.091 Thread 'MainThread': missing ScriptRunContext! This warning can be ignored when running in bare mode.\n",
            "2025-02-20 16:11:46.093 Thread 'MainThread': missing ScriptRunContext! This warning can be ignored when running in bare mode.\n",
            "2025-02-20 16:11:46.095 Thread 'MainThread': missing ScriptRunContext! This warning can be ignored when running in bare mode.\n",
            "2025-02-20 16:11:46.097 Thread 'MainThread': missing ScriptRunContext! This warning can be ignored when running in bare mode.\n",
            "2025-02-20 16:11:46.099 Thread 'MainThread': missing ScriptRunContext! This warning can be ignored when running in bare mode.\n",
            "2025-02-20 16:11:46.101 Thread 'MainThread': missing ScriptRunContext! This warning can be ignored when running in bare mode.\n",
            "2025-02-20 16:11:46.103 Thread 'MainThread': missing ScriptRunContext! This warning can be ignored when running in bare mode.\n",
            "2025-02-20 16:11:46.105 Thread 'MainThread': missing ScriptRunContext! This warning can be ignored when running in bare mode.\n",
            "2025-02-20 16:11:46.108 Thread 'MainThread': missing ScriptRunContext! This warning can be ignored when running in bare mode.\n",
            "2025-02-20 16:11:46.110 Thread 'MainThread': missing ScriptRunContext! This warning can be ignored when running in bare mode.\n",
            "2025-02-20 16:11:46.112 Thread 'MainThread': missing ScriptRunContext! This warning can be ignored when running in bare mode.\n",
            "2025-02-20 16:11:46.114 Thread 'MainThread': missing ScriptRunContext! This warning can be ignored when running in bare mode.\n",
            "2025-02-20 16:11:46.116 Thread 'MainThread': missing ScriptRunContext! This warning can be ignored when running in bare mode.\n"
          ]
        }
      ]
    },
    {
      "cell_type": "code",
      "source": [],
      "metadata": {
        "id": "TSxqjcF4H-kN"
      },
      "execution_count": null,
      "outputs": []
    },
    {
      "cell_type": "code",
      "source": [
        "ls\n"
      ],
      "metadata": {
        "colab": {
          "base_uri": "https://localhost:8080/"
        },
        "id": "pHJGaUbMIkk_",
        "outputId": "1bbefc89-cd74-4404-e76e-26777a62b790"
      },
      "execution_count": 75,
      "outputs": [
        {
          "output_type": "stream",
          "name": "stdout",
          "text": [
            "airbnb_price_model.pkl  property_by_place.csv  \u001b[0m\u001b[01;34msample_data\u001b[0m/\n",
            "Detailed_Property.csv   Property_Reviews.csv\n"
          ]
        }
      ]
    },
    {
      "cell_type": "code",
      "source": [
        "%%writefile app.py\n",
        "import streamlit as st\n",
        "import joblib\n",
        "import numpy as np\n",
        "\n",
        "# Load the trained model\n",
        "model = joblib.load(\"airbnb_price_model.pkl\")\n",
        "\n",
        "# Streamlit App\n",
        "st.title(\"🏡 Airbnb Price Prediction App\")\n",
        "\n",
        "st.write(\"Enter the details of the listing to predict its price:\")\n",
        "\n",
        "# User Input Fields\n",
        "bedrooms = st.number_input(\"Number of Bedrooms\", min_value=0, step=1)\n",
        "bathrooms = st.number_input(\"Number of Bathrooms\", min_value=0, step=1)\n",
        "beds = st.number_input(\"Number of Beds\", min_value=0, step=1)\n",
        "room_type = st.selectbox(\"Room Type\", [\"Entire home/apt\", \"Private room\", \"Shared room\"])\n",
        "city = st.selectbox(\"City\", [\"Calgary\", \"Toronto\", \"Vancouver\"])\n",
        "reviews_count = st.number_input(\"Number of Reviews\", min_value=0, step=1)\n",
        "star_rating = st.slider(\"Star Rating\", 0.0, 5.0, 4.5)\n",
        "\n",
        "# Convert Categorical Data\n",
        "room_type_encoded = 1 if room_type == \"Entire home/apt\" else 0\n",
        "city_encoded = 1 if city == \"Calgary\" else 0  # Adjust based on your dataset\n",
        "\n",
        "# Prepare input data\n",
        "input_data = np.array([[bedrooms, bathrooms, beds, room_type_encoded, city_encoded, reviews_count, star_rating, 0]])\n",
        "\n",
        "# Predict Button\n",
        "if st.button(\"Predict Price\"):\n",
        "    predicted_price = model.predict(input_data)\n",
        "    st.success(f\"💰 Estimated Price: ${predicted_price[0]:.2f} per night\")\n"
      ],
      "metadata": {
        "colab": {
          "base_uri": "https://localhost:8080/"
        },
        "id": "Sbd5Ck1uInMM",
        "outputId": "264a549d-e292-4b24-a95e-5c55bebc161a"
      },
      "execution_count": 76,
      "outputs": [
        {
          "output_type": "stream",
          "name": "stdout",
          "text": [
            "Writing app.py\n"
          ]
        }
      ]
    },
    {
      "cell_type": "code",
      "source": [
        "!ps aux | grep streamlit"
      ],
      "metadata": {
        "colab": {
          "base_uri": "https://localhost:8080/"
        },
        "id": "2xWawyjEJX8m",
        "outputId": "1894bdd7-7427-4a56-e877-5fea46a0bbab"
      },
      "execution_count": 80,
      "outputs": [
        {
          "output_type": "stream",
          "name": "stdout",
          "text": [
            "root       27949  0.0  0.0   6484  2284 ?        S    16:16   0:00 grep streamlit\n"
          ]
        }
      ]
    },
    {
      "cell_type": "code",
      "source": [],
      "metadata": {
        "id": "xkcKZzqOJbwC"
      },
      "execution_count": null,
      "outputs": []
    },
    {
      "cell_type": "code",
      "source": [
        "!pip install pyngrok\n"
      ],
      "metadata": {
        "colab": {
          "base_uri": "https://localhost:8080/"
        },
        "id": "DYZkZ-mnJby3",
        "outputId": "50fcd4f3-dffa-4b33-f012-8bcf3f6accc5"
      },
      "execution_count": 81,
      "outputs": [
        {
          "output_type": "stream",
          "name": "stdout",
          "text": [
            "Collecting pyngrok\n",
            "  Downloading pyngrok-7.2.3-py3-none-any.whl.metadata (8.7 kB)\n",
            "Requirement already satisfied: PyYAML>=5.1 in /usr/local/lib/python3.11/dist-packages (from pyngrok) (6.0.2)\n",
            "Downloading pyngrok-7.2.3-py3-none-any.whl (23 kB)\n",
            "Installing collected packages: pyngrok\n",
            "Successfully installed pyngrok-7.2.3\n"
          ]
        }
      ]
    },
    {
      "cell_type": "code",
      "source": [],
      "metadata": {
        "id": "6oyW-cNeJb24"
      },
      "execution_count": null,
      "outputs": []
    },
    {
      "cell_type": "code",
      "source": [
        "import os\n",
        "from pyngrok import ngrok\n",
        "\n",
        "# Kill previous tunnels (if any)\n",
        "!pkill -9 streamlit\n",
        "!pkill -9 ngrok\n",
        "\n",
        "# Start Streamlit in the background\n",
        "os.system(\"streamlit run app.py &\")\n",
        "\n",
        "# Open a public URL with ngrok\n",
        "ngrok.set_auth_token(\"2tJSbZGDyFFThyfuY145lKTFTcb_4Zmoxr9ePBrG3aTQ7hGQ\")  # Sign up at ngrok.com to get this\n",
        "public_url = ngrok.connect(8501).public_url\n",
        "\n",
        "print(f\"🎯 Access your Streamlit app at: {public_url}\")\n"
      ],
      "metadata": {
        "colab": {
          "base_uri": "https://localhost:8080/"
        },
        "id": "Y55vg3bNJybe",
        "outputId": "1068ff21-0083-4882-a433-7de5692dfed3"
      },
      "execution_count": 82,
      "outputs": [
        {
          "output_type": "stream",
          "name": "stdout",
          "text": [
            "🎯 Access your Streamlit app at: https://abd3-104-196-65-7.ngrok-free.app\n"
          ]
        }
      ]
    },
    {
      "cell_type": "markdown",
      "source": [],
      "metadata": {
        "id": "fYe2tdbQa3Sw"
      }
    },
    {
      "cell_type": "code",
      "source": [],
      "metadata": {
        "id": "aujItzZAa6K9"
      },
      "execution_count": null,
      "outputs": []
    }
  ]
}